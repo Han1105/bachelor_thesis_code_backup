{
 "cells": [
  {
   "cell_type": "code",
   "execution_count": 17,
   "id": "351c7cfc",
   "metadata": {},
   "outputs": [],
   "source": [
    "import pennylane as qml\n",
    "from pennylane import numpy as np\n",
    "from pennylane.qchem import read_structure, molecule\n",
    "from matplotlib import pyplot as plt\n",
    "from pennylane import commutator"
   ]
  },
  {
   "cell_type": "code",
   "execution_count": 18,
   "id": "5547d6f6",
   "metadata": {},
   "outputs": [],
   "source": [
    "import numpy as np\n",
    "\n",
    "symbols = [\"H\", \"H\"]\n",
    "coordinates = np.array([\n",
    "    [0.0, 0.0, 0.0],\n",
    "    [0.0, 0.0, 0.74]  # unit Å\n",
    "])\n",
    "\n"
   ]
  },
  {
   "cell_type": "code",
   "execution_count": 19,
   "id": "0b109de0",
   "metadata": {},
   "outputs": [
    {
     "name": "stdout",
     "output_type": "stream",
     "text": [
      " qubits number: 4\n"
     ]
    }
   ],
   "source": [
    "H, qubits = qml.qchem.molecular_hamiltonian(symbols, coordinates, active_electrons=2, active_orbitals=2)\n",
    "print(\" qubits number:\", qubits)\n",
    "# 3. define quantum device\n",
    "dev = qml.device(\"default.qubit\", wires=qubits)"
   ]
  },
  {
   "cell_type": "code",
   "execution_count": 20,
   "id": "31b6327f",
   "metadata": {},
   "outputs": [
    {
     "name": "stdout",
     "output_type": "stream",
     "text": [
      "0.7784107703315544 * I([0, 2, 1, 3]) + 0.23718739979583803 * Z(0) + -0.4612495808843312 * Z(2) + 0.1406570062079997 * (Z(0) @ Z(2)) + 0.23718739979583803 * Z(1) + 0.18456105273155665 * (Z(0) @ Z(1)) + 0.04104417944033013 * (Y(0) @ X(1) @ X(2) @ Y(3)) + -0.04104417944033013 * (Y(0) @ Y(1) @ X(2) @ X(3)) + -0.04104417944033013 * (X(0) @ X(1) @ Y(2) @ Y(3)) + 0.04104417944033013 * (X(0) @ Y(1) @ Y(2) @ X(3)) + -0.4612495808843312 * Z(3) + 0.18170118564832982 * (Z(0) @ Z(3)) + 0.1406570062079997 * (Z(1) @ Z(3)) + 0.18170118564832982 * (Z(1) @ Z(2)) + 0.1917875067959805 * (Z(2) @ Z(3))\n"
     ]
    }
   ],
   "source": [
    "from pennylane import qchem\n",
    "\n",
    "H_c, qubits = qchem.molecular_hamiltonian(\n",
    "    symbols,\n",
    "    coordinates,\n",
    "    method='pyscf',\n",
    "    basis='sto-3g'\n",
    ")\n",
    "print(H_c)"
   ]
  },
  {
   "cell_type": "code",
   "execution_count": 21,
   "id": "54449ec6",
   "metadata": {},
   "outputs": [
    {
     "name": "stdout",
     "output_type": "stream",
     "text": [
      "-1.0 * X(0) + -1.0 * X(1) + -1.0 * X(2) + -1.0 * X(3)\n"
     ]
    }
   ],
   "source": [
    "def build_driver_h(n):\n",
    "    coeffs = [-1.0] * n\n",
    "    ops = [qml.PauliX(i) for i in range(n)]\n",
    "    return qml.Hamiltonian(coeffs, ops)\n",
    "\n",
    "driver_h = build_driver_h(qubits)\n",
    "print(driver_h)\n"
   ]
  },
  {
   "cell_type": "code",
   "execution_count": 22,
   "id": "2ba45f54",
   "metadata": {},
   "outputs": [
    {
     "name": "stdout",
     "output_type": "stream",
     "text": [
      "(-0.47437479959167606+0j) * Y(0) + (-0.2813140124159994+0j) * (Y(0) @ Z(2)) + (-0.3691221054631133+0j) * (Y(0) @ Z(1)) + (0.08208835888066025+0j) * (Z(0) @ X(1) @ X(2) @ Y(3)) + (-0.08208835888066025+0j) * (Z(0) @ Y(1) @ X(2) @ X(3)) + (-0.36340237129665964+0j) * (Y(0) @ Z(3)) + (-0.47437479959167606+0j) * Y(1) + (-0.3691221054631133+0j) * (Z(0) @ Y(1)) + (-0.08208835888066025+0j) * (Y(0) @ Z(1) @ X(2) @ X(3)) + (0.08208835888066025+0j) * (X(0) @ Z(1) @ Y(2) @ X(3)) + (-0.2813140124159994+0j) * (Y(1) @ Z(3)) + (-0.36340237129665964+0j) * (Y(1) @ Z(2)) + (0.9224991617686624+0j) * Y(2) + (-0.2813140124159994+0j) * (Z(0) @ Y(2)) + (-0.08208835888066025+0j) * (X(0) @ X(1) @ Z(2) @ Y(3)) + (0.08208835888066025+0j) * (X(0) @ Y(1) @ Z(2) @ X(3)) + (-0.36340237129665964+0j) * (Z(1) @ Y(2)) + (-0.383575013591961+0j) * (Y(2) @ Z(3)) + (0.08208835888066025+0j) * (Y(0) @ X(1) @ X(2) @ Z(3)) + (-0.08208835888066025+0j) * (X(0) @ X(1) @ Y(2) @ Z(3)) + (0.9224991617686624+0j) * Y(3) + (-0.36340237129665964+0j) * (Z(0) @ Y(3)) + (-0.2813140124159994+0j) * (Z(1) @ Y(3)) + (-0.383575013591961+0j) * (Z(2) @ Y(3))\n"
     ]
    }
   ],
   "source": [
    "def build_commutator_hamiltonian(H_d, H_c):\n",
    "    comm_terms = []\n",
    "\n",
    "    coeffs_d, ops_d = H_d.terms()\n",
    "    coeffs_c, ops_c = H_c.terms()\n",
    "\n",
    "    for c1, op1 in zip(coeffs_d, ops_d):\n",
    "        for c2, op2 in zip(coeffs_c, ops_c):\n",
    "            try:\n",
    "                comm = commutator(op1, op2)\n",
    "                # check no commute term\n",
    "                if isinstance(comm, qml.ops.op_math.Sum) and len(comm.operands) == 0:\n",
    "                    continue  \n",
    "                \n",
    "                # multiply j\n",
    "                comm_terms.append(1j * c1 * c2 * comm)\n",
    "\n",
    "            except Exception as e:\n",
    "                print(f\"跳过某个项：[{op1}, {op2}] 计算 commutator 出错，原因：{e}\")\n",
    "                continue\n",
    "\n",
    "    if len(comm_terms) == 0:\n",
    "        print(\"所有 commutators 都是 0\")\n",
    "        return qml.Hamiltonian([], [])\n",
    "    \n",
    "    # 合并所有项\n",
    "    full_comm = sum(comm_terms)\n",
    "    return full_comm.simplify()\n",
    "\n",
    "comm_h=build_commutator_hamiltonian(driver_h,H_c)\n",
    "print(comm_h)"
   ]
  },
  {
   "cell_type": "code",
   "execution_count": 23,
   "id": "1ca7aa2c",
   "metadata": {},
   "outputs": [
    {
     "data": {
      "text/plain": [
       "'\\nfrom pennylane import commutator\\nfrom pennylane import commutator, Hamiltonian\\n\\ndef build_commutator_hamiltonian(H_d, H_c):\\n    comm_terms = []\\n\\n    coeffs_d, ops_d = H_d.terms()\\n    coeffs_c, ops_c = H_c.terms()\\n\\n    for c1, op1 in zip(coeffs_d, ops_d):\\n        for c2, op2 in zip(coeffs_c, ops_c):\\n            try:\\n                comm = commutator(op1, op2)\\n                # 检查 comm 是不是空的 Sum（即“无对易项”）\\n                if isinstance(comm, qml.ops.op_math.Sum) and len(comm.operands) == 0:\\n                    continue  # 是空项就跳过\\n                \\n                comm_terms.append(c1 * c2 * comm)\\n            except Exception as e:\\n                print(f\"跳过某个项：[{op1}, {op2}] 计算 commutator 出错，原因：{e}\")\\n                continue\\n\\n    if len(comm_terms) == 0:\\n        print(\"所有 commutators 都是 0\")\\n        return Hamiltonian([], [])\\n    \\n    # 合并所有项\\n    full_comm = sum(comm_terms)\\n    return full_comm.simplify()\\n\\ncomm_h=build_commutator_hamiltonian(driver_h,H_c)\\nprint(comm_h)\\n'"
      ]
     },
     "execution_count": 23,
     "metadata": {},
     "output_type": "execute_result"
    }
   ],
   "source": [
    "'''\n",
    "from pennylane import commutator\n",
    "from pennylane import commutator, Hamiltonian\n",
    "\n",
    "def build_commutator_hamiltonian(H_d, H_c):\n",
    "    comm_terms = []\n",
    "\n",
    "    coeffs_d, ops_d = H_d.terms()\n",
    "    coeffs_c, ops_c = H_c.terms()\n",
    "\n",
    "    for c1, op1 in zip(coeffs_d, ops_d):\n",
    "        for c2, op2 in zip(coeffs_c, ops_c):\n",
    "            try:\n",
    "                comm = commutator(op1, op2)\n",
    "                # 检查 comm 是不是空的 Sum（即“无对易项”）\n",
    "                if isinstance(comm, qml.ops.op_math.Sum) and len(comm.operands) == 0:\n",
    "                    continue  # 是空项就跳过\n",
    "                \n",
    "                comm_terms.append(c1 * c2 * comm)\n",
    "            except Exception as e:\n",
    "                print(f\"跳过某个项：[{op1}, {op2}] 计算 commutator 出错，原因：{e}\")\n",
    "                continue\n",
    "\n",
    "    if len(comm_terms) == 0:\n",
    "        print(\"所有 commutators 都是 0\")\n",
    "        return Hamiltonian([], [])\n",
    "    \n",
    "    # 合并所有项\n",
    "    full_comm = sum(comm_terms)\n",
    "    return full_comm.simplify()\n",
    "\n",
    "comm_h=build_commutator_hamiltonian(driver_h,H_c)\n",
    "print(comm_h)\n",
    "'''"
   ]
  },
  {
   "cell_type": "code",
   "execution_count": 24,
   "id": "26100d17",
   "metadata": {},
   "outputs": [],
   "source": [
    "# 6. build FALQON layer\n",
    "def falqon_layer(beta_k, cost_h, driver_h, delta_t):\n",
    "    qml.ApproxTimeEvolution(cost_h, delta_t, 1)\n",
    "    qml.ApproxTimeEvolution(driver_h, beta_k * delta_t, 1)\n"
   ]
  },
  {
   "cell_type": "code",
   "execution_count": 25,
   "id": "1ad2ddb7",
   "metadata": {},
   "outputs": [],
   "source": [
    "# 7. build ansatz（多层 feedback 演化）\n",
    "def build_ansatz(cost_h, driver_h, delta_t):\n",
    "    def ansatz(beta, **kwargs):\n",
    "        for w in dev.wires:\n",
    "            qml.Hadamard(wires=w)  # 初始化为 |+⟩\n",
    "\n",
    "        if len(beta) > 1:\n",
    "            \n",
    "            qml.layer(falqon_layer, len(beta) - 1, beta[:-1],\n",
    "                      cost_h=cost_h, driver_h=driver_h, delta_t=delta_t)\n",
    "        \n",
    "        \n",
    "        falqon_layer(beta[-1], cost_h, driver_h, delta_t)\n",
    "        \n",
    "    return ansatz"
   ]
  },
  {
   "cell_type": "code",
   "execution_count": 26,
   "id": "20d5ca8d",
   "metadata": {},
   "outputs": [],
   "source": [
    "# 8. 构建测量电路（测量 cost_h 或 comm_h 的期望值）\n",
    "def expval_circuit(beta, measurement_h):\n",
    "    ansatz = build_ansatz(H, driver_h, delta_t)\n",
    "    ansatz(beta)\n",
    "    return qml.expval(measurement_h)"
   ]
  },
  {
   "cell_type": "code",
   "execution_count": 27,
   "id": "2f5413fc",
   "metadata": {},
   "outputs": [],
   "source": [
    "# 9. 主过程：运行 FBQA，生成 β 序列与能量估计\n",
    "def run_fbqa(H, driver_h, comm_h, n_steps, beta_1, delta_t):\n",
    "    beta_list = [beta_1]\n",
    "    energy_list = []\n",
    "\n",
    "    cost_fn = qml.QNode(expval_circuit, dev, interface=\"autograd\")\n",
    "\n",
    "    for i in range(n_steps):\n",
    "        # 用 commutator 哈密顿量测量当前态，得到下一层 feedback 参数\n",
    "        next_beta = -delta_t * cost_fn(beta_list, measurement_h=comm_h)\n",
    "        beta_list.append(next_beta)\n",
    "\n",
    "        # 计算当前 ansatz 态的能量期望\n",
    "        energy = cost_fn(beta_list, measurement_h=H)\n",
    "        energy_list.append(energy)\n",
    "        print(f\"第 {i+1} 步: E = {energy:.8f} Ha, β_{i+1} = {next_beta:.6f}\")\n",
    "\n",
    "    return beta_list, energy_list"
   ]
  },
  {
   "cell_type": "code",
   "execution_count": 29,
   "id": "5efd479e",
   "metadata": {},
   "outputs": [
    {
     "name": "stdout",
     "output_type": "stream",
     "text": [
      "第 1 步: E = 0.77634946 Ha, β_1 = 0.036137-0.000000j\n",
      "第 2 步: E = 0.76901962 Ha, β_2 = 0.071539-0.000000j\n",
      "第 3 步: E = 0.75472712 Ha, β_3 = 0.105414-0.000000j\n",
      "第 4 步: E = 0.73213697 Ha, β_4 = 0.136929-0.000000j\n",
      "第 5 步: E = 0.70069815 Ha, β_5 = 0.165248-0.000000j\n",
      "第 6 步: E = 0.66071395 Ha, β_6 = 0.189598-0.000000j\n",
      "第 7 步: E = 0.61330045 Ha, β_7 = 0.209341-0.000000j\n",
      "第 8 步: E = 0.56022755 Ha, β_8 = 0.224058-0.000000j\n",
      "第 9 步: E = 0.50366833 Ha, β_9 = 0.233598-0.000000j\n",
      "第 10 步: E = 0.44590861 Ha, β_10 = 0.238099-0.000000j\n",
      "第 11 步: E = 0.38907865 Ha, β_11 = 0.237963-0.000000j\n",
      "第 12 步: E = 0.33495651 Ha, β_12 = 0.233787-0.000000j\n",
      "第 13 步: E = 0.28486568 Ha, β_13 = 0.226279-0.000000j\n",
      "第 14 步: E = 0.23966117 Ha, β_14 = 0.216173-0.000000j\n",
      "第 15 步: E = 0.19977872 Ha, β_15 = 0.204153-0.000000j\n",
      "第 16 步: E = 0.16531665 Ha, β_16 = 0.190812-0.000000j\n",
      "第 17 步: E = 0.13612444 Ha, β_17 = 0.176634-0.000000j\n",
      "第 18 步: E = 0.11188164 Ha, β_18 = 0.161996-0.000000j\n",
      "第 19 步: E = 0.09216030 Ha, β_19 = 0.147184-0.000000j\n",
      "第 20 步: E = 0.07647056 Ha, β_20 = 0.132422-0.000000j\n",
      "第 21 步: E = 0.06429275 Ha, β_21 = 0.117887-0.000000j\n",
      "第 22 步: E = 0.05510031 Ha, β_22 = 0.103737-0.000000j\n",
      "第 23 步: E = 0.04837733 Ha, β_23 = 0.090121-0.000000j\n",
      "第 24 步: E = 0.04363345 Ha, β_24 = 0.077187-0.000000j\n",
      "第 25 步: E = 0.04041707 Ha, β_25 = 0.065085-0.000000j\n",
      "第 26 步: E = 0.03832683 Ha, β_26 = 0.053963-0.000000j\n",
      "第 27 步: E = 0.03702058 Ha, β_27 = 0.043957-0.000000j\n",
      "第 28 步: E = 0.03622044 Ha, β_28 = 0.035183-0.000000j\n",
      "第 29 步: E = 0.03571355 Ha, β_29 = 0.027724-0.000000j\n",
      "第 30 步: E = 0.03534799 Ha, β_30 = 0.021620-0.000000j\n",
      "第 31 步: E = 0.03502494 Ha, β_31 = 0.016863-0.000000j\n",
      "第 32 步: E = 0.03468831 Ha, β_32 = 0.013395-0.000000j\n",
      "第 33 步: E = 0.03431367 Ha, β_33 = 0.011104-0.000000j\n",
      "第 34 步: E = 0.03389794 Ha, β_34 = 0.009838-0.000000j\n",
      "第 35 步: E = 0.03345127 Ha, β_35 = 0.009406-0.000000j\n",
      "第 36 步: E = 0.03299114 Ha, β_36 = 0.009599-0.000000j\n",
      "第 37 步: E = 0.03253880 Ha, β_37 = 0.010199-0.000000j\n",
      "第 38 步: E = 0.03211704 Ha, β_38 = 0.010995-0.000000j\n",
      "第 39 步: E = 0.03174870 Ha, β_39 = 0.011798-0.000000j\n",
      "第 40 步: E = 0.03145504 Ha, β_40 = 0.012448-0.000000j\n",
      "第 41 步: E = 0.03125381 Ha, β_41 = 0.012828-0.000000j\n",
      "第 42 步: E = 0.03115705 Ha, β_42 = 0.012863-0.000000j\n",
      "第 43 步: E = 0.03116901 Ha, β_43 = 0.012522-0.000000j\n",
      "第 44 步: E = 0.03128485 Ha, β_44 = 0.011815-0.000000j\n",
      "第 45 步: E = 0.03149033 Ha, β_45 = 0.010785-0.000000j\n",
      "第 46 步: E = 0.03176282 Ha, β_46 = 0.009499-0.000000j\n",
      "第 47 步: E = 0.03207353 Ha, β_47 = 0.008036-0.000000j\n",
      "第 48 步: E = 0.03239035 Ha, β_48 = 0.006482-0.000000j\n",
      "第 49 步: E = 0.03268121 Ha, β_49 = 0.004912-0.000000j\n",
      "第 50 步: E = 0.03291710 Ha, β_50 = 0.003391-0.000000j\n"
     ]
    }
   ],
   "source": [
    "# 10. 参数设定并运行\n",
    "n_steps = 50\n",
    "delta_t = 0.1\n",
    "beta_1 = 0.0\n",
    "\n",
    "res_beta, res_energies = run_fbqa(H, driver_h, comm_h, n_steps, beta_1, delta_t)"
   ]
  },
  {
   "cell_type": "code",
   "execution_count": null,
   "id": "ca21b4be",
   "metadata": {},
   "outputs": [
    {
     "data": {
      "image/png": "[encoded data removed]",
      "text/plain": [
       "<Figure size 640x480 with 1 Axes>"
      ]
     },
     "metadata": {},
     "output_type": "display_data"
    }
   ],
   "source": [
    "plt.plot(range(1, n_steps + 1), res_energies)\n",
    "plt.xlabel(\"iteration number\")\n",
    "plt.ylabel(\"approximate energy (Hartree)\")\n",
    "plt.title(\"FBQA approximate Hydrogen molecule ground state energy\")\n",
    "plt.grid(True)\n",
    "plt.tight_layout()\n",
    "plt.show()"
   ]
  },
  {
   "cell_type": "code",
   "execution_count": null,
   "id": "dcfb66a3",
   "metadata": {},
   "outputs": [],
   "source": []
  }
 ],
 "metadata": {
  "kernelspec": {
   "display_name": "FBQA_Hydrogen",
   "language": "python",
   "name": "python3"
  },
  "language_info": {
   "codemirror_mode": {
    "name": "ipython",
    "version": 3
   },
   "file_extension": ".py",
   "mimetype": "text/x-python",
   "name": "python",
   "nbconvert_exporter": "python",
   "pygments_lexer": "ipython3",
   "version": "3.10.17"
  }
 },
 "nbformat": 4,
 "nbformat_minor": 5
}
