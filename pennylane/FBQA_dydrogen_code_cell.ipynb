{
 "cells": [
  {
   "cell_type": "code",
   "execution_count": 2,
   "id": "e9e1ae29",
   "metadata": {},
   "outputs": [],
   "source": [
    "import pennylane as qml\n",
    "from pennylane import numpy as np\n",
    "from pennylane.qchem import read_structure, molecule\n",
    "from matplotlib import pyplot as plt\n"
   ]
  },
  {
   "cell_type": "code",
   "execution_count": null,
   "id": "3e8af76b",
   "metadata": {},
   "outputs": [],
   "source": [
    "# 1. define H2 molecule structure\n",
    "symbols = [\"H\", \"H\"]\n",
    "coordinates = np.array([[0.0, 0.0, 0.0], [0.0, 0.0, 0.74]])  # 0.74 Å is H-H average bond length\n"
   ]
  },
  {
   "cell_type": "code",
   "execution_count": 6,
   "id": "d07fc724",
   "metadata": {},
   "outputs": [
    {
     "name": "stdout",
     "output_type": "stream",
     "text": [
      "使用 qubits 数量: 4\n"
     ]
    }
   ],
   "source": [
    "H, qubits = qml.qchem.molecular_hamiltonian(symbols, coordinates, active_electrons=2, active_orbitals=2)\n",
    "print(\"使用 qubits 数量:\", qubits)"
   ]
  },
  {
   "cell_type": "code",
   "execution_count": 7,
   "id": "a5f60633",
   "metadata": {},
   "outputs": [],
   "source": [
    "# 3. 定义量子设备\n",
    "dev = qml.device(\"default.qubit\", wires=qubits)"
   ]
  },
  {
   "cell_type": "code",
   "execution_count": 8,
   "id": "2a29b2be",
   "metadata": {},
   "outputs": [],
   "source": [
    "def build_driver_h(n):\n",
    "    coeffs = [-1.0] * n\n",
    "    ops = [qml.PauliX(i) for i in range(n)]\n",
    "    return qml.Hamiltonian(coeffs, ops)\n",
    "\n",
    "driver_h = build_driver_h(qubits)"
   ]
  },
  {
   "cell_type": "code",
   "execution_count": 9,
   "id": "75fffb8c",
   "metadata": {},
   "outputs": [
    {
     "name": "stderr",
     "output_type": "stream",
     "text": [
      "/root/miniconda3/envs/FBQA_Hydrogen/lib/python3.10/site-packages/pennylane/ops/op_math/sum.py:541: PennyLaneDeprecationWarning: Sum.coeffs is deprecated and will be removed in future releases. You can access both (coeffs, ops) via op.terms(). Also consider op.operands.\n",
      "  warnings.warn(\n",
      "/root/miniconda3/envs/FBQA_Hydrogen/lib/python3.10/site-packages/pennylane/ops/op_math/sum.py:557: PennyLaneDeprecationWarning: Sum.ops is deprecated and will be removed in future releases. You can access both (coeffs, ops) via op.terms(). Also consider op.operands.\n",
      "  warnings.warn(\n"
     ]
    }
   ],
   "source": [
    "# 5. 构造 commutator 哈密顿量（手动构造 [H_d, H_c]）\n",
    "def build_commutator_h(cost_h, driver_h):\n",
    "    # 简单地估算 [H_d, H_c] 的形式：对每对项手动计算 [X, Z] ≈ 2iY\n",
    "    # 注意：这里只是近似表示，可使用 qml 的 sparse matrix 或 commutator 工具进一步改进\n",
    "    comm_terms = []\n",
    "    for cd, od in zip(driver_h.coeffs, driver_h.ops):\n",
    "        for cc, oc in zip(cost_h.coeffs, cost_h.ops):\n",
    "            if od.wires == oc.wires:\n",
    "                wire = od.wires[0]\n",
    "                # [X, Z] = 2i Y → 取虚部，忽略 i，只保留 Y 项\n",
    "                comm_terms.append((2.0 * cd * cc, qml.PauliY(wire)))\n",
    "\n",
    "    if not comm_terms:\n",
    "        return qml.Hamiltonian([0.0], [qml.Identity(0)])\n",
    "    coeffs, ops = zip(*comm_terms)\n",
    "    return qml.Hamiltonian(coeffs, ops)\n",
    "\n",
    "comm_h = build_commutator_h(H, driver_h)"
   ]
  },
  {
   "cell_type": "code",
   "execution_count": 11,
   "id": "7f852540",
   "metadata": {},
   "outputs": [],
   "source": [
    "# 6. 构建 FALQON 演化层\n",
    "def falqon_layer(beta_k, cost_h, driver_h, delta_t):\n",
    "    qml.ApproxTimeEvolution(cost_h, delta_t, 1)\n",
    "    qml.ApproxTimeEvolution(driver_h, beta_k * delta_t, 1)\n"
   ]
  },
  {
   "cell_type": "code",
   "execution_count": 12,
   "id": "f836ff17",
   "metadata": {},
   "outputs": [],
   "source": [
    "# 7. 构建 ansatz（多层 feedback 演化）\n",
    "def build_ansatz(cost_h, driver_h, delta_t):\n",
    "    def ansatz(beta, **kwargs):\n",
    "        for w in dev.wires:\n",
    "            qml.Hadamard(wires=w)\n",
    "        qml.layer(falqon_layer, len(beta), beta,\n",
    "                  cost_h=cost_h, driver_h=driver_h, delta_t=delta_t)\n",
    "    return ansatz"
   ]
  },
  {
   "cell_type": "code",
   "execution_count": 13,
   "id": "7969cb12",
   "metadata": {},
   "outputs": [],
   "source": [
    "# 8. 构建测量电路（测量 cost_h 或 comm_h 的期望值）\n",
    "def expval_circuit(beta, measurement_h):\n",
    "    ansatz = build_ansatz(H, driver_h, delta_t)\n",
    "    ansatz(beta)\n",
    "    return qml.expval(measurement_h)"
   ]
  },
  {
   "cell_type": "code",
   "execution_count": 14,
   "id": "f2e340cd",
   "metadata": {},
   "outputs": [],
   "source": [
    "# 9. 主过程：运行 FBQA，生成 β 序列与能量估计\n",
    "def run_fbqa(H, driver_h, comm_h, n_steps, beta_1, delta_t):\n",
    "    beta_list = [beta_1]\n",
    "    energy_list = []\n",
    "\n",
    "    cost_fn = qml.QNode(expval_circuit, dev, interface=\"autograd\")\n",
    "\n",
    "    for i in range(n_steps):\n",
    "        # 用 commutator 哈密顿量测量当前态，得到下一层 feedback 参数\n",
    "        next_beta = -delta_t * cost_fn(beta_list, measurement_h=comm_h)\n",
    "        beta_list.append(next_beta)\n",
    "\n",
    "        # 计算当前 ansatz 态的能量期望\n",
    "        energy = cost_fn(beta_list, measurement_h=H)\n",
    "        energy_list.append(energy)\n",
    "        print(f\"第 {i+1} 步: E = {energy:.8f} Ha, β_{i+1} = {next_beta:.6f}\")\n",
    "\n",
    "    return beta_list, energy_list"
   ]
  },
  {
   "cell_type": "code",
   "execution_count": 15,
   "id": "5128b117",
   "metadata": {},
   "outputs": [
    {
     "name": "stdout",
     "output_type": "stream",
     "text": [
      "第 1 步: E = 0.77740032 Ha, β_1 = 0.021449\n",
      "第 2 步: E = 0.77313303 Ha, β_2 = 0.042486\n",
      "第 3 步: E = 0.76468343 Ha, β_3 = 0.062714\n",
      "第 4 步: E = 0.75118801 Ha, β_4 = 0.081764\n",
      "第 5 步: E = 0.73218405 Ha, β_5 = 0.099294\n",
      "第 6 步: E = 0.70764094 Ha, β_6 = 0.115003\n",
      "第 7 步: E = 0.67795044 Ha, β_7 = 0.128642\n",
      "第 8 步: E = 0.64387632 Ha, β_8 = 0.140018\n",
      "第 9 步: E = 0.60647007 Ha, β_9 = 0.149001\n",
      "第 10 步: E = 0.56696397 Ha, β_10 = 0.155534\n",
      "第 11 步: E = 0.52665632 Ha, β_11 = 0.159626\n",
      "第 12 步: E = 0.48680326 Ha, β_12 = 0.161358\n",
      "第 13 步: E = 0.44852944 Ha, β_13 = 0.160870\n",
      "第 14 步: E = 0.41276483 Ha, β_14 = 0.158356\n",
      "第 15 步: E = 0.38020986 Ha, β_15 = 0.154047\n",
      "第 16 步: E = 0.35132657 Ha, β_16 = 0.148203\n",
      "第 17 步: E = 0.32635045 Ha, β_17 = 0.141099\n",
      "第 18 步: E = 0.30531650 Ha, β_18 = 0.133009\n",
      "第 19 步: E = 0.28809319 Ha, β_19 = 0.124202\n",
      "第 20 步: E = 0.27441961 Ha, β_20 = 0.114929\n",
      "第 21 步: E = 0.26394206 Ha, β_21 = 0.105419\n",
      "第 22 步: E = 0.25624819 Ha, β_22 = 0.095878\n",
      "第 23 步: E = 0.25089743 Ha, β_23 = 0.086483\n",
      "第 24 步: E = 0.24744710 Ha, β_24 = 0.077385\n",
      "第 25 步: E = 0.24547399 Ha, β_25 = 0.068707\n",
      "第 26 步: E = 0.24459122 Ha, β_26 = 0.060547\n",
      "第 27 步: E = 0.24446026 Ha, β_27 = 0.052979\n",
      "第 28 步: E = 0.24479832 Ha, β_28 = 0.046058\n",
      "第 29 步: E = 0.24538119 Ha, β_29 = 0.039819\n",
      "第 30 步: E = 0.24604220 Ha, β_30 = 0.034278\n",
      "第 31 步: E = 0.24666779 Ha, β_31 = 0.029442\n",
      "第 32 步: E = 0.24719070 Ha, β_32 = 0.025303\n",
      "第 33 步: E = 0.24758141 Ha, β_33 = 0.021845\n",
      "第 34 步: E = 0.24783899 Ha, β_34 = 0.019044\n",
      "第 35 步: E = 0.24798194 Ha, β_35 = 0.016870\n",
      "第 36 步: E = 0.24803987 Ha, β_36 = 0.015288\n",
      "第 37 步: E = 0.24804635 Ha, β_37 = 0.014259\n",
      "第 38 步: E = 0.24803335 Ha, β_38 = 0.013740\n",
      "第 39 步: E = 0.24802741 Ha, β_39 = 0.013685\n",
      "第 40 步: E = 0.24804737 Ha, β_40 = 0.014045\n"
     ]
    }
   ],
   "source": [
    "# 10. 参数设定并运行\n",
    "n_steps = 40\n",
    "delta_t = 0.1\n",
    "beta_1 = 0.0\n",
    "\n",
    "res_beta, res_energies = run_fbqa(H, driver_h, comm_h, n_steps, beta_1, delta_t)"
   ]
  },
  {
   "cell_type": "code",
   "execution_count": 20,
   "id": "c161ca7a",
   "metadata": {},
   "outputs": [
    {
     "data": {
      "image/png": "[encoded data removed]",
      "text/plain": [
       "<Figure size 640x480 with 1 Axes>"
      ]
     },
     "metadata": {},
     "output_type": "display_data"
    }
   ],
   "source": [
    "plt.plot(range(1, n_steps + 1), res_energies)\n",
    "plt.xlabel(\"iteration number\")\n",
    "plt.ylabel(\"approximate energy (Hartree)\")\n",
    "plt.title(\"FBQA approximate Hydrogen molecule ground state energy\")\n",
    "plt.grid(True)\n",
    "plt.tight_layout()\n",
    "plt.show()"
   ]
  },
  {
   "cell_type": "code",
   "execution_count": 23,
   "id": "e8f2cb3c",
   "metadata": {},
   "outputs": [],
   "source": [
    "import numpy as np\n",
    "\n",
    "symbols = [\"H\", \"H\"]\n",
    "coordinates = np.array([\n",
    "    [0.0, 0.0, 0.0],\n",
    "    [0.0, 0.0, 0.74]  # 单位是 Å\n",
    "])\n",
    "\n"
   ]
  },
  {
   "cell_type": "code",
   "execution_count": 30,
   "id": "4f8e103d",
   "metadata": {},
   "outputs": [
    {
     "name": "stdout",
     "output_type": "stream",
     "text": [
      "0.7784107703315544 * I([0, 2, 1, 3]) + 0.23718739979583803 * Z(0) + -0.4612495808843312 * Z(2) + 0.1406570062079997 * (Z(0) @ Z(2)) + 0.23718739979583803 * Z(1) + 0.18456105273155665 * (Z(0) @ Z(1)) + 0.04104417944033013 * (Y(0) @ X(1) @ X(2) @ Y(3)) + -0.04104417944033013 * (Y(0) @ Y(1) @ X(2) @ X(3)) + -0.04104417944033013 * (X(0) @ X(1) @ Y(2) @ Y(3)) + 0.04104417944033013 * (X(0) @ Y(1) @ Y(2) @ X(3)) + -0.4612495808843312 * Z(3) + 0.18170118564832982 * (Z(0) @ Z(3)) + 0.1406570062079997 * (Z(1) @ Z(3)) + 0.18170118564832982 * (Z(1) @ Z(2)) + 0.1917875067959805 * (Z(2) @ Z(3))\n"
     ]
    }
   ],
   "source": [
    "from pennylane import qchem\n",
    "\n",
    "H_c, qubits = qchem.molecular_hamiltonian(\n",
    "    symbols,\n",
    "    coordinates,\n",
    "    method='pyscf',\n",
    "    basis='sto-3g'\n",
    ")\n",
    "print(H_c)"
   ]
  },
  {
   "cell_type": "code",
   "execution_count": 26,
   "id": "c98a78fd",
   "metadata": {},
   "outputs": [
    {
     "name": "stdout",
     "output_type": "stream",
     "text": [
      "-1.0 * X(0) + -1.0 * X(1) + -1.0 * X(2) + -1.0 * X(3)\n"
     ]
    }
   ],
   "source": [
    "def build_driver_h(n):\n",
    "    coeffs = [-1.0] * n\n",
    "    ops = [qml.PauliX(i) for i in range(n)]\n",
    "    return qml.Hamiltonian(coeffs, ops)\n",
    "\n",
    "driver_h = build_driver_h(qubits)\n",
    "print(driver_h)\n"
   ]
  },
  {
   "cell_type": "code",
   "execution_count": 35,
   "id": "b2cf9d7f",
   "metadata": {},
   "outputs": [
    {
     "name": "stdout",
     "output_type": "stream",
     "text": [
      "-0.4743748006099693 * Y(0) + -0.47437480060996917 * Y(1) + 0.9224991415264475 * Y(2) + 0.9224991415264476 * Y(3)\n"
     ]
    }
   ],
   "source": [
    "from pennylane import commutator\n",
    "from pennylane import commutator, Hamiltonian\n",
    "\n",
    "def build_commutator_hamiltonian(H_d, H_c):\n",
    "    comm_terms = []\n",
    "\n",
    "    coeffs_d, ops_d = H_d.terms()\n",
    "    coeffs_c, ops_c = H_c.terms()\n",
    "\n",
    "    for c1, op1 in zip(coeffs_d, ops_d):\n",
    "        for c2, op2 in zip(coeffs_c, ops_c):\n",
    "            try:\n",
    "                comm = commutator(op1, op2)\n",
    "                # 检查 comm 是不是空的 Sum（即“无对易项”）\n",
    "                if isinstance(comm, qml.ops.op_math.Sum) and len(comm.operands) == 0:\n",
    "                    continue  # 是空项就跳过\n",
    "                comm_terms.append(c1 * c2 * comm)\n",
    "            except Exception as e:\n",
    "                print(f\"跳过某个项：[{op1}, {op2}] 计算 commutator 出错，原因：{e}\")\n",
    "                continue\n",
    "\n",
    "    if len(comm_terms) == 0:\n",
    "        print(\"所有 commutators 都是 0\")\n",
    "        return Hamiltonian([], [])\n",
    "    \n",
    "    # 合并所有项\n",
    "    full_comm = sum(comm_terms)\n",
    "    return full_comm.simplify()\n",
    "\n",
    "\n",
    "\n",
    "commh_h = build_commutator_hamiltonian(driver_h,H_c)\n",
    "print(comm_h)"
   ]
  },
  {
   "cell_type": "code",
   "execution_count": null,
   "id": "df8d1788",
   "metadata": {},
   "outputs": [],
   "source": [
    "def falqon_layer(beta_k, cost_h, driver_h, delta_t):\n",
    "    qml.ApproxTimeEvolution(cost_h, delta_t, 1)\n",
    "    qml.ApproxTimeEvolution(driver_h, beta_k * delta_t, 1)"
   ]
  }
 ],
 "metadata": {
  "kernelspec": {
   "display_name": "FBQA_Hydrogen",
   "language": "python",
   "name": "python3"
  },
  "language_info": {
   "codemirror_mode": {
    "name": "ipython",
    "version": 3
   },
   "file_extension": ".py",
   "mimetype": "text/x-python",
   "name": "python",
   "nbconvert_exporter": "python",
   "pygments_lexer": "ipython3",
   "version": "3.10.17"
  }
 },
 "nbformat": 4,
 "nbformat_minor": 5
}
