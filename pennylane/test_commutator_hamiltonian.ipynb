{
 "cells": [
  {
   "cell_type": "code",
   "execution_count": 1,
   "id": "16447e23",
   "metadata": {},
   "outputs": [],
   "source": [
    "import pennylane as qml\n",
    "from pennylane import numpy as np\n",
    "from pennylane.qchem import read_structure, molecule\n",
    "from matplotlib import pyplot as plt\n",
    "from pennylane import commutator"
   ]
  },
  {
   "cell_type": "code",
   "execution_count": 2,
   "id": "9b0c62ac",
   "metadata": {},
   "outputs": [
    {
     "name": "stdout",
     "output_type": "stream",
     "text": [
      "-1.0 * Z(0) + -1.0 * Z(1) + -1.0 * Z(2) + -1.0 * Z(3)\n",
      "-1.0 * X(0) + -1.0 * X(1) + -1.0 * X(2) + -1.0 * X(3)\n"
     ]
    }
   ],
   "source": [
    "n_qubits = 4\n",
    "dev = qml.device(\"default.qubit\", wires=n_qubits)\n",
    "\n",
    "def build_cost_h(n):\n",
    "    coeffs = [-1.0] * n\n",
    "    ops = [qml.PauliZ(i) for i in range(n)]\n",
    "    return qml.Hamiltonian(coeffs, ops)\n",
    "\n",
    "def build_driver_h(n):\n",
    "    coeffs = [-1.0] * n\n",
    "    ops = [qml.PauliX(i) for i in range(n)]\n",
    "    return qml.Hamiltonian(coeffs, ops)\n",
    "\n",
    "cost_h = build_cost_h(n_qubits)\n",
    "print(cost_h)\n",
    "\n",
    "driver_h = build_driver_h(n_qubits)\n",
    "print(driver_h)\n"
   ]
  },
  {
   "cell_type": "code",
   "execution_count": null,
   "id": "cebe93e0",
   "metadata": {},
   "outputs": [],
   "source": []
  }
 ],
 "metadata": {
  "kernelspec": {
   "display_name": "FBQA_Hydrogen",
   "language": "python",
   "name": "python3"
  },
  "language_info": {
   "codemirror_mode": {
    "name": "ipython",
    "version": 3
   },
   "file_extension": ".py",
   "mimetype": "text/x-python",
   "name": "python",
   "nbconvert_exporter": "python",
   "pygments_lexer": "ipython3",
   "version": "3.10.17"
  }
 },
 "nbformat": 4,
 "nbformat_minor": 5
}
