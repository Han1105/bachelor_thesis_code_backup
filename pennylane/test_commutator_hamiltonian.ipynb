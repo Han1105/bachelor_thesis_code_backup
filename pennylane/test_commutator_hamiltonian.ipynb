{
 "cells": [
  {
   "cell_type": "code",
   "execution_count": 1,
   "id": "16447e23",
   "metadata": {},
   "outputs": [],
   "source": [
    "import pennylane as qml\n",
    "from pennylane import numpy as np\n",
    "from pennylane.qchem import read_structure, molecule\n",
    "from matplotlib import pyplot as plt\n",
    "from pennylane import commutator"
   ]
  },
  {
   "cell_type": "code",
   "execution_count": 2,
   "id": "9b0c62ac",
   "metadata": {},
   "outputs": [
    {
     "name": "stdout",
     "output_type": "stream",
     "text": [
      "-1.0 * Z(0) + -1.0 * Z(1) + -1.0 * Z(2) + -1.0 * Z(3)\n",
      "-1.0 * X(0) + -1.0 * X(1) + -1.0 * X(2) + -1.0 * X(3)\n"
     ]
    }
   ],
   "source": [
    "n_qubits = 4\n",
    "dev = qml.device(\"default.qubit\", wires=n_qubits)\n",
    "\n",
    "def build_cost_h(n):\n",
    "    coeffs = [-1.0] * n\n",
    "    ops = [qml.PauliZ(i) for i in range(n)]\n",
    "    return qml.Hamiltonian(coeffs, ops)\n",
    "\n",
    "def build_driver_h(n):\n",
    "    coeffs = [-1.0] * n\n",
    "    ops = [qml.PauliX(i) for i in range(n)]\n",
    "    return qml.Hamiltonian(coeffs, ops)\n",
    "\n",
    "cost_h = build_cost_h(n_qubits)\n",
    "print(cost_h)\n",
    "\n",
    "driver_h = build_driver_h(n_qubits)\n",
    "print(driver_h)\n"
   ]
  },
  {
   "cell_type": "code",
   "execution_count": 4,
   "id": "cebe93e0",
   "metadata": {},
   "outputs": [
    {
     "name": "stdout",
     "output_type": "stream",
     "text": [
      "(2+0j) * Y(0) + (2+0j) * Y(1) + (2+0j) * Y(2) + (2+0j) * Y(3)\n",
      "0 * I()\n"
     ]
    }
   ],
   "source": [
    "def build_commutator_hamiltonian(H_d, H_c):\n",
    "    comm_terms = []\n",
    "    coeffs_d, ops_d = H_d.terms()\n",
    "    coeffs_c, ops_c = H_c.terms()\n",
    "    for c1, op1 in zip(coeffs_d, ops_d):\n",
    "        for c2, op2 in zip(coeffs_c, ops_c):\n",
    "            try:\n",
    "                comm = commutator(op1, op2)\n",
    "                if isinstance(comm, qml.ops.op_math.Sum) and len(comm.operands) == 0:\n",
    "                    continue\n",
    "                comm_terms.append(1j * c1 * c2 * comm)\n",
    "            except Exception as e:\n",
    "                print(f\"跳过 [{op1}, {op2}]：{e}\")\n",
    "                continue\n",
    "    return sum(comm_terms).simplify()\n",
    "\n",
    "comm_h = build_commutator_hamiltonian(driver_h, cost_h)\n",
    "comm_hd= build_commutator_hamiltonian(driver_h,driver_h)\n",
    "print(comm_h)\n",
    "print(comm_hd)"
   ]
  },
  {
   "cell_type": "code",
   "execution_count": null,
   "id": "595006b7",
   "metadata": {},
   "outputs": [],
   "source": []
  }
 ],
 "metadata": {
  "kernelspec": {
   "display_name": "FBQA_Hydrogen",
   "language": "python",
   "name": "python3"
  },
  "language_info": {
   "codemirror_mode": {
    "name": "ipython",
    "version": 3
   },
   "file_extension": ".py",
   "mimetype": "text/x-python",
   "name": "python",
   "nbconvert_exporter": "python",
   "pygments_lexer": "ipython3",
   "version": "3.10.17"
  }
 },
 "nbformat": 4,
 "nbformat_minor": 5
}
