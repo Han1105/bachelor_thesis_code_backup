{
 "cells": [
  {
   "cell_type": "code",
   "execution_count": 4,
   "metadata": {},
   "outputs": [],
   "source": [
    "import pennylane as qml\n",
    "dev = qml.device('default.qubit',wires=1)"
   ]
  },
  {
   "cell_type": "code",
   "execution_count": 4,
   "metadata": {},
   "outputs": [
    {
     "name": "stdout",
     "output_type": "stream",
     "text": [
      "1 * X(0) + 1 * Z(1) + 0.5 * (X(0) @ X(1))\n"
     ]
    }
   ],
   "source": [
    "import pennylane as qml\n",
    "\n",
    "H = qml.Hamiltonian([1, 1, 0.5], [qml.PauliX(0), qml.PauliZ(1), qml.PauliX(0) @ qml.PauliX(1)]) #定义了一个哈密顿量\n",
    "print(H)\n"
   ]
  },
  {
   "cell_type": "markdown",
   "metadata": {},
   "source": [
    "这段代码定义了一个哈密顿量 $\\mathbf{H}$：\n",
    "\n",
    "$$\n",
    "H = 1 \\cdot X_0 + 1 \\cdot Z_1 + 0.5 \\cdot (X_0 X_1)\n",
    "$$\n",
    "\n",
    "---\n",
    "\n",
    "- `qml.Hamiltonian([1, 1, 0.5], [...])}`：定义了哈密顿量的系数。\n",
    "\n",
    "  - $X_0$：第 0 个量子比特上的 Pauli-X 操作。\n",
    "  - $Z_1$：第 1 个量子比特上的 Pauli-Z 操作。\n",
    "  - $X_0 X_1$：第 0 和 1 号量子比特上的 Pauli-X 交互（XX 作用）。\n"
   ]
  },
  {
   "cell_type": "markdown",
   "metadata": {},
   "source": []
  },
  {
   "cell_type": "code",
   "execution_count": 3,
   "metadata": {},
   "outputs": [
    {
     "name": "stdout",
     "output_type": "stream",
     "text": [
      "0: ──RX(1.00)─╭RXX(0.50)──RX(1.00)─╭RXX(0.50)─┤  <Z>\n",
      "1: ──RZ(1.00)─╰RXX(0.50)──RZ(1.00)─╰RXX(0.50)─┤  <Z>\n"
     ]
    }
   ],
   "source": [
    "import pennylane as qml\n",
    "dev = qml.device(\"default.qubit\", wires=2)\n",
    "\n",
    "t = 1\n",
    "n = 2\n",
    "\n",
    "\n",
    "@qml.qnode(dev)\n",
    "def circuit():\n",
    "    qml.ApproxTimeEvolution(H, t, n)\n",
    "    return [qml.expval(qml.PauliZ(i)) for i in range(2)]\n",
    "\n",
    "\n",
    "print(qml.draw(circuit, level=\"device\")())"
   ]
  },
  {
   "cell_type": "markdown",
   "metadata": {},
   "source": [
    "这段代码使用 **PennyLane** 进行 **量子哈密顿量 \\( H \\) 的近似时间演化**，并输出相应的 **量子电路结构**。\n",
    "\n",
    "\n",
    "\n",
    "$$\n",
    "H = 1 \\cdot X_0 + 1 \\cdot Z_1 + 0.5 \\cdot (X_0 X_1)\n",
    "$$\n",
    "\n",
    "---\n",
    "\n",
    " **代码解析**\n",
    "```python\n",
    "dev = qml.device(\"default.qubit\", wires=2)\n",
    "```\n",
    "\n",
    "创建一个 **2 量子比特的 PennyLane 设备**，用于 **模拟量子计算机**。\n",
    "\n",
    "\n",
    "`t = 1`：设定 **时间演化时间** \\( t = 1 \\)。\n",
    "\n",
    "`n = 2`：设定 **Trotter 分解步数**，即将时间演化算子：\n",
    "$$\n",
    "e^{-i H t}\n",
    "$$\n",
    "近似分解为 **2** 个较小步骤，以提高近似精度。  \n",
    "\n",
    "```python\n",
    "@qml.qnode(dev)\n",
    "def circuit():\n",
    "    qml.ApproxTimeEvolution(H, t, n)\n",
    "    return [qml.expval(qml.PauliZ(i)) for i in range(2)]\n",
    "```\n",
    "\n",
    "- **定义量子电路** `circuit()`：\n",
    "\n",
    "  - `qml.ApproxTimeEvolution(H, t, n)`：\n",
    "  \n",
    "    - 计算哈密顿量 \\( H \\) 在时间 \\( t \\) 内的近似时间演化：\n",
    "      $$\n",
    "      e^{-i H t} \\approx \\prod_{i} e^{-i H_i t / n}\n",
    "      $$\n",
    "\n",
    "  - `return [qml.expval(qml.PauliZ(i)) for i in range(2)]`：\n",
    "\n",
    "    - 测量量子比特 \\( i \\) 在 \\( Z \\) 方向的期望值：\n",
    "      $$\n",
    "      \\langle Z_0 \\rangle, \\quad \\langle Z_1 \\rangle\n",
    "      $$\n",
    "\n",
    "```python\n",
    "print(qml.draw(circuit, level=\"device\")())\n",
    "```\n",
    "- **绘制量子电路**，以 `device` 级别的详细视图图展示。\n",
    "\n",
    "## 量子门解析\n",
    "\n",
    "- `RX(1.00)`：\n",
    "  - **Pauli-X 旋转门**，作用于 **第 0 量子比特**：\n",
    "    $$\n",
    "    R_X(\\theta) = e^{-i \\frac{\\theta}{2} X}\n",
    "    $$\n",
    "\n",
    "- `RZ(1.00)`：\n",
    "  - **Pauli-Z 旋转门**，作用于 **第 1 量子比特**：\n",
    "    $$\n",
    "    R_Z(\\theta) = e^{-i \\frac{\\theta}{2} Z}\n",
    "    $$\n",
    "\n",
    "- `rXX(0.50)`：\n",
    "  - **Ising XX 交互门**，作用于 **第 0 和 1 号量子比特**：\n",
    "    $$\n",
    "    e^{-i \\frac{t}{n} X_0 X_1}\n",
    "    $$\n",
    "\n",
    "  - 这表示量子比特 0 和 1 之间存在相互作用（如 Ising 模型）。\n",
    "\n"
   ]
  },
  {
   "cell_type": "markdown",
   "metadata": {},
   "source": []
  },
  {
   "cell_type": "code",
   "execution_count": 6,
   "metadata": {},
   "outputs": [
    {
     "name": "stdout",
     "output_type": "stream",
     "text": [
      "0: ──RX(0.50)─╭●─┤  <Z>\n",
      "1: ──H────────╰X─┤  <Z>\n"
     ]
    }
   ],
   "source": [
    "def circ(theta):\n",
    "    qml.RX(theta, wires=0)\n",
    "    qml.Hadamard(wires=1)\n",
    "    qml.CNOT(wires=[0, 1])\n",
    "\n",
    "\n",
    "@qml.qnode(dev)\n",
    "def circuit(param):\n",
    "    circ(param)\n",
    "    return [qml.expval(qml.PauliZ(i)) for i in range(2)]\n",
    "\n",
    "\n",
    "print(qml.draw(circuit)(0.5))"
   ]
  },
  {
   "cell_type": "markdown",
   "metadata": {},
   "source": [
    "- `qml.RX(theta, wires=0)`：\n",
    "  - 在 **第 0 号量子比特** 上施加 **RX 旋转门**，旋转角度为 `theta`：\n",
    "    $$\n",
    "    R_X(\\theta) = e^{-i \\frac{\\theta}{2} X}\n",
    "    $$\n",
    "  - 这是一个绕 **X 轴** 的旋转门。\n",
    "\n",
    "- `qml.Hadamard(wires=1)`：\n",
    "  - 在 **第 1 号量子比特** 上施加 **Hadamard 门**：\n",
    "    $$\n",
    "    H = \\frac{1}{\\sqrt{2}} \n",
    "    \\begin{bmatrix} \n",
    "    1 & 1 \\\\ \n",
    "    1 & -1 \n",
    "    \\end{bmatrix}\n",
    "    $$\n",
    "  - 将量子比特 1 置于叠加态：\n",
    "    $$\n",
    "    |0\\rangle \\rightarrow \\frac{|0\\rangle + |1\\rangle}{\\sqrt{2}}, \\quad \n",
    "    |1\\rangle \\rightarrow \\frac{|0\\rangle - |1\\rangle}{\\sqrt{2}}\n",
    "    $$\n",
    "\n",
    "- `qml.CNOT(wires=[0, 1])`：\n",
    "  - 施加 **受控非门 (CNOT)**：\n",
    "    - **控制比特**：量子比特 `0`\n",
    "    - **目标比特**：量子比特 `1`\n",
    "    - 如果控制比特 `0` 处于 $|1\\rangle$ 状态，则翻转比特 `1`。  \n",
    "\n",
    "```python\n",
    "@qml.qnode(dev)\n",
    "def circuit(param):\n",
    "    circ(param)\n",
    "    return [qml.expval(qml.PauliZ(i)) for i in range(2)]\n",
    "```\n",
    "\n",
    "- `@qml.qnode(dev)`：\n",
    "  - 将 `circuit` **变为一个可执行的量子电路**，在 `dev` 设备上运行。\n",
    "\n",
    "- `circ(param)`：\n",
    "  - 调用 **子电路** `circ(theta)`，其中 `theta` 由 `param` 传递进来。\n",
    "\n",
    "- `return [qml.expval(qml.PauliZ(i)) for i in range(2)]`：\n",
    "  - 测量两个量子比特的 `Pauli-Z` 期望值：\n",
    "    $$\n",
    "    \\langle Z_0 \\rangle, \\quad \\langle Z_1 \\rangle\n",
    "    $$\n",
    "  - 这用于获取最终状态在 **Z** 方向的投影结果。\n",
    "\n",
    "  ```python\n",
    "  print(qml.draw(circuit)(0.5))\n",
    "  ```\n",
    "\n",
    "\n",
    "`qml.draw(circuit)(0.5)` **绘制电路**，并将 `param = 0.5` 作为 `theta` 传递给 `circ(theta)`。\n",
    "\n",
    "**最终输出的是电路结构图。**\n",
    "\n",
    "电路中的 **量子门** 作用如下：\n",
    "\n",
    "1. **第 0 号量子比特** (`wire 0`)\n",
    "\n",
    "   - `RX(0.50)`：在量子比特 0 上施加 **RX 旋转门**：\n",
    "     $$\n",
    "     R_X(0.50) = e^{-i \\frac{0.50}{2} X}\n",
    "     $$\n",
    "\n",
    "   **作用**：绕 X 轴旋转 0.50 弧度，使得量子比特从 `|0⟩` 状态进入一个 **叠加态**。\n",
    "\n",
    "   - 🔘 **(控制 CNOT 门)**：\n",
    "     - 该比特 **作为 CNOT 门的控制比特**。\n",
    "     - 仅当该比特处于 `|1⟩` 状态时，目标比特 (`wire 1`) 会发生翻转。\n",
    "\n",
    "   -  `<Z>` **(测量)**：\n",
    "     - 对该比特进行 `Pauli-Z` 期望值测量：\n",
    "       $$\n",
    "       \\langle Z_0 \\rangle\n",
    "       $$\n",
    "   \n",
    "   **作用**：获取该比特最终在 Z 方向的投影值。\n",
    "### **第 1 号量子比特 (`wire 1`)**\n",
    "\n",
    "-  **H (Hadamard 门)**：\n",
    "  - 作用于 **第 1 号量子比特**：\n",
    "    $$\n",
    "    H = \\frac{1}{\\sqrt{2}} \n",
    "    \\begin{bmatrix} \n",
    "    1 & 1 \\\\ \n",
    "    1 & -1 \n",
    "    \\end{bmatrix}\n",
    "    $$\n",
    "  - **作用**：使 `|0⟩` 和 `|1⟩` 进入等概率的叠加态：\n",
    "    $$\n",
    "    |0\\rangle \\rightarrow \\frac{|0\\rangle + |1\\rangle}{\\sqrt{2}}\n",
    "    $$\n",
    "\n",
    "-  **X (CNOT 目标比特)**：\n",
    "  - 该比特是 CNOT 门的 **目标比特**。\n",
    "  - 如果 **控制比特 (`wire 0`) 处于 `|1⟩`**，则该比特的状态翻转：\n",
    "    - `|0⟩ → |1⟩`\n",
    "    - `|1⟩ → |0⟩`\n",
    "  - **作用**：在比特 0 和比特 1 之间 **创建量子纠缠**。\n",
    "\n",
    "-  `<Z>` **(测量)**：\n",
    "  - 对该比特进行 **Pauli-Z 期望值测量**：\n",
    "    $$\n",
    "    \\langle Z_1 \\rangle\n",
    "    $$\n",
    "  - **作用**：获取该比特最终在 **Z** 方向的投影值。\n"
   ]
  },
  {
   "cell_type": "markdown",
   "metadata": {},
   "source": []
  },
  {
   "cell_type": "code",
   "execution_count": 7,
   "metadata": {},
   "outputs": [
    {
     "name": "stdout",
     "output_type": "stream",
     "text": [
      "0: ──RX(0.30)─╭●──RX(0.40)─╭●──RX(0.50)─╭●─┤  <Z>\n",
      "1: ──H────────╰X──H────────╰X──H────────╰X─┤  <Z>\n"
     ]
    }
   ],
   "source": [
    "@qml.qnode(dev)\n",
    "def circuit(params, **kwargs):\n",
    "    qml.layer(circ, 3, params)\n",
    "    return [qml.expval(qml.PauliZ(i)) for i in range(2)]\n",
    "\n",
    "\n",
    "print(qml.draw(circuit)([0.3, 0.4, 0.5]))"
   ]
  },
  {
   "cell_type": "markdown",
   "metadata": {},
   "source": []
  },
  {
   "cell_type": "markdown",
   "metadata": {},
   "source": [
    "`@qml.qnode(dev)`：把 `circuit()` 变成 PennyLane 量子计算节点（QNode），可以在 `dev` 设备（量子模拟器）上运行。\n",
    "\n",
    "`qml.layer(circ, 3, params)`：\n",
    "\n",
    "- **核心**：让 `circ` 这个量子电路函数被重复执行 **3 次**。\n",
    "- `params = [0.3, 0.4, 0.5]`，表示 **每一层的 RX 旋转门使用不同的角度**。\n",
    "\n",
    "**返回值**：\n",
    "\n",
    "- 计算 **两个量子比特在 `Pauli-Z` 方向的期望值**：\n",
    "  $$\n",
    "  \\langle Z_0 \\rangle, \\quad \\langle Z_1 \\rangle\n",
    "  $$\n"
   ]
  },
  {
   "cell_type": "markdown",
   "metadata": {},
   "source": []
  }
 ],
 "metadata": {
  "kernelspec": {
   "display_name": "myenv",
   "language": "python",
   "name": "python3"
  },
  "language_info": {
   "codemirror_mode": {
    "name": "ipython",
    "version": 3
   },
   "file_extension": ".py",
   "mimetype": "text/x-python",
   "name": "python",
   "nbconvert_exporter": "python",
   "pygments_lexer": "ipython3",
   "version": "3.9.21"
  }
 },
 "nbformat": 4,
 "nbformat_minor": 2
}
