{
 "cells": [
  {
   "cell_type": "code",
   "execution_count": 14,
   "metadata": {},
   "outputs": [],
   "source": [
    "from qiskit import QuantumCircuit, transpile, assemble\n",
    "from qiskit_aer import Aer\n",
    "from qiskit.visualization import plot_histogram\n",
    "from qiskit.quantum_info import Statevector\n",
    "from IPython.display import display, Latex\n",
    "import matplotlib.pyplot as plt\n",
    "from qiskit_ibm_runtime import Sampler\n",
    "from qiskit import transpile\n",
    "import numpy as np\n",
    "from qiskit_ibm_runtime import SamplerV2 as Sampler\n",
    "\n",
    "\n"
   ]
  },
  {
   "cell_type": "code",
   "execution_count": 1,
   "metadata": {},
   "outputs": [],
   "source": [
    "from qiskit_ibm_runtime import QiskitRuntimeService\n",
    "service = QiskitRuntimeService (channel=\"ibm_quantum\",\n",
    "                                token=\"304636e08832e99bf5cd66f58d0f1180f193cd79e97987083aafe0ba33cef2f9ceb8ac2bba91aa24b612787451d32e9dc7206edf2e4347ba88443ba5261f04a6\")\n",
    "\n",
    "QiskitRuntimeService.save_account(channel=\"ibm_quantum\",\n",
    "                                  token=\"304636e08832e99bf5cd66f58d0f1180f193cd79e97987083aafe0ba33cef2f9ceb8ac2bba91aa24b612787451d32e9dc7206edf2e4347ba88443ba5261f04a6\",\n",
    "                                  overwrite=True)"
   ]
  },
  {
   "cell_type": "code",
   "execution_count": 2,
   "metadata": {},
   "outputs": [
    {
     "name": "stdout",
     "output_type": "stream",
     "text": [
      "ibm_brisbane\n",
      "ibm_kyiv\n",
      "ibm_sherbrooke\n"
     ]
    }
   ],
   "source": [
    "backends = service.backends()\n",
    "for backend in backends:\n",
    "    print(backend.name)"
   ]
  },
  {
   "cell_type": "code",
   "execution_count": 3,
   "metadata": {},
   "outputs": [
    {
     "name": "stdout",
     "output_type": "stream",
     "text": [
      "<qiskit_ibm_runtime.models.backend_status.BackendStatus object at 0x7fd061adfe00>\n"
     ]
    }
   ],
   "source": [
    "backend = service.backend(\"ibm_brisbane\")\n",
    "print(backend.status())"
   ]
  },
  {
   "cell_type": "code",
   "execution_count": 7,
   "metadata": {},
   "outputs": [
    {
     "data": {
      "text/plain": [
       "<qiskit.circuit.instructionset.InstructionSet at 0x7fd060181d80>"
      ]
     },
     "execution_count": 7,
     "metadata": {},
     "output_type": "execute_result"
    }
   ],
   "source": [
    "qc_show= QuantumCircuit(2)\n",
    "qc_show.h(0)\n",
    "qc_show.cx(0, 1)"
   ]
  },
  {
   "cell_type": "code",
   "execution_count": 8,
   "metadata": {},
   "outputs": [
    {
     "data": {
      "text/latex": [
       "$$|\\psi\\rangle = 0.707|00\\rangle + 0.707|11\\rangle$$"
      ],
      "text/plain": [
       "<IPython.core.display.Latex object>"
      ]
     },
     "metadata": {},
     "output_type": "display_data"
    }
   ],
   "source": [
    "state = Statevector.from_instruction(qc_show)\n",
    "amps = state.data  # 复数数组\n",
    "\n",
    "# 格式化为 LaTeX\n",
    "latex_str = r'$$|\\psi\\rangle = ' + ' + '.join([\n",
    "    f'{amp.real:.3f}|{format(i, \"02b\")}\\\\rangle'\n",
    "    for i, amp in enumerate(amps) if abs(amp) > 1e-6\n",
    "]) + '$$'\n",
    "\n",
    "display(Latex(latex_str))"
   ]
  },
  {
   "cell_type": "code",
   "execution_count": 9,
   "metadata": {},
   "outputs": [],
   "source": [
    "qc = QuantumCircuit(2)\n",
    "qc.h(0)\n",
    "qc.cx(0, 1)\n",
    "qc.measure_all()\n",
    "qc_transpiled = transpile(qc, backend)"
   ]
  },
  {
   "cell_type": "code",
   "execution_count": 10,
   "metadata": {},
   "outputs": [],
   "source": [
    "sampler = Sampler(backend)\n",
    "job = sampler.run([qc_transpiled], shots=1024)\n",
    "result = job.result()\n",
    "\n",
    "\n"
   ]
  },
  {
   "cell_type": "code",
   "execution_count": 11,
   "metadata": {},
   "outputs": [
    {
     "name": "stdout",
     "output_type": "stream",
     "text": [
      "{'00': 490, '11': 515, '10': 9, '01': 10}\n"
     ]
    }
   ],
   "source": [
    "counts = job.result()[0].data.meas.get_counts()\n",
    "print(counts)\n"
   ]
  },
  {
   "cell_type": "code",
   "execution_count": 16,
   "metadata": {},
   "outputs": [
    {
     "name": "stdout",
     "output_type": "stream",
     "text": [
      "{3: 0.4833984375, 0: 0.5166015625}\n"
     ]
    }
   ],
   "source": [
    "from qiskit_aer.primitives import Sampler\n",
    " \n",
    "from qiskit import QuantumCircuit\n",
    "from qiskit.visualization import plot_histogram\n",
    " \n",
    "sampler1= Sampler(backend_options={\"seed_simulator\": 1234})\n",
    "\n",
    "# execute the quantum circuit\n",
    "quasi_dists = sampler1.run(qc, shots=1024).result().quasi_dists[0]\n",
    "print(quasi_dists)"
   ]
  }
 ],
 "metadata": {
  "kernelspec": {
   "display_name": "cwq",
   "language": "python",
   "name": "python3"
  },
  "language_info": {
   "codemirror_mode": {
    "name": "ipython",
    "version": 3
   },
   "file_extension": ".py",
   "mimetype": "text/x-python",
   "name": "python",
   "nbconvert_exporter": "python",
   "pygments_lexer": "ipython3",
   "version": "3.13.2"
  }
 },
 "nbformat": 4,
 "nbformat_minor": 2
}
