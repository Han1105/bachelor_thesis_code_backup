{
 "cells": [
  {
   "cell_type": "code",
   "execution_count": 2,
   "id": "724d8e11",
   "metadata": {},
   "outputs": [
    {
     "ename": "TypeError",
     "evalue": "ActiveSpaceTransformer.__init__() got an unexpected keyword argument 'num_molecular_orbitals'",
     "output_type": "error",
     "traceback": [
      "\u001b[0;31m---------------------------------------------------------------------------\u001b[0m",
      "\u001b[0;31mTypeError\u001b[0m                                 Traceback (most recent call last)",
      "Cell \u001b[0;32mIn[2], line 20\u001b[0m\n\u001b[1;32m     17\u001b[0m es_problem \u001b[38;5;241m=\u001b[39m driver\u001b[38;5;241m.\u001b[39mrun()\n\u001b[1;32m     19\u001b[0m \u001b[38;5;66;03m# 2. 截取活性空间 (2电子, 2轨道)\u001b[39;00m\n\u001b[0;32m---> 20\u001b[0m transformer \u001b[38;5;241m=\u001b[39m \u001b[43mActiveSpaceTransformer\u001b[49m\u001b[43m(\u001b[49m\u001b[43mnum_electrons\u001b[49m\u001b[38;5;241;43m=\u001b[39;49m\u001b[38;5;241;43m2\u001b[39;49m\u001b[43m,\u001b[49m\u001b[43m \u001b[49m\u001b[43mnum_molecular_orbitals\u001b[49m\u001b[38;5;241;43m=\u001b[39;49m\u001b[38;5;241;43m2\u001b[39;49m\u001b[43m)\u001b[49m\n\u001b[1;32m     21\u001b[0m problem_reduced \u001b[38;5;241m=\u001b[39m transformer\u001b[38;5;241m.\u001b[39mtransform(es_problem)\n\u001b[1;32m     23\u001b[0m \u001b[38;5;66;03m# 3. 使用 Jordan-Wigner 变换为 qubit Hamiltonian\u001b[39;00m\n",
      "\u001b[0;31mTypeError\u001b[0m: ActiveSpaceTransformer.__init__() got an unexpected keyword argument 'num_molecular_orbitals'"
     ]
    }
   ],
   "source": [
    "from qiskit_nature.second_q.drivers import PySCFDriver\n",
    "from qiskit_nature.units import DistanceUnit\n",
    "from qiskit_nature.second_q.mappers import JordanWignerMapper\n",
    "from qiskit_nature.second_q.transformers import ActiveSpaceTransformer\n",
    "from qiskit_nature.second_q.problems import ElectronicStructureProblem\n",
    "from qiskit_nature.second_q.hamiltonians import ElectronicEnergy\n",
    "\n",
    "\n",
    "from qiskit.quantum_info import SparsePauliOp\n",
    "\n",
    "# 1. 设置分子结构\n",
    "driver = PySCFDriver(\n",
    "    atom=\"H 0.0 0.0 0.0; H 0.0 0.0 0.74\",  # 单位 Å\n",
    "    unit=DistanceUnit.ANGSTROM,\n",
    "    basis=\"sto-3g\"\n",
    ")\n",
    "es_problem = driver.run()\n",
    "\n",
    "# 2. 截取活性空间 (2电子, 2轨道)\n",
    "transformer = ActiveSpaceTransformer(num_electrons=2, num_molecular_orbitals=2)\n",
    "problem_reduced = transformer.transform(es_problem)\n",
    "\n",
    "# 3. 使用 Jordan-Wigner 变换为 qubit Hamiltonian\n",
    "mapper = JordanWignerMapper()\n",
    "qubit_converter = QubitConverter(mapper=mapper)\n",
    "qubit_op = qubit_converter.convert(problem_reduced.second_q_ops()[\"ElectronicEnergy\"])\n",
    "cost_h = qubit_op  # type: SparsePauliOp\n",
    "n_qubits = cost_h.num_qubits\n",
    "\n",
    "print(\"Qubits:\", n_qubits)\n",
    "print(\"Cost Hamiltonian:\")\n",
    "print(cost_h)\n"
   ]
  },
  {
   "cell_type": "code",
   "execution_count": null,
   "id": "9dbde9a8",
   "metadata": {},
   "outputs": [],
   "source": []
  }
 ],
 "metadata": {
  "kernelspec": {
   "display_name": "FBQA_Hydrogen",
   "language": "python",
   "name": "python3"
  },
  "language_info": {
   "codemirror_mode": {
    "name": "ipython",
    "version": 3
   },
   "file_extension": ".py",
   "mimetype": "text/x-python",
   "name": "python",
   "nbconvert_exporter": "python",
   "pygments_lexer": "ipython3",
   "version": "3.10.17"
  }
 },
 "nbformat": 4,
 "nbformat_minor": 5
}
