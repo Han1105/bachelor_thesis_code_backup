{
 "cells": [
  {
   "cell_type": "code",
   "execution_count": 14,
   "id": "8bb94f43",
   "metadata": {},
   "outputs": [],
   "source": [
    "import pylab\n",
    "import concurrent.futures\n",
    "import multiprocessing as mp\n",
    "import numpy as np\n",
    "from scipy.linalg import expm\n",
    "\n",
    "from qiskit.circuit.library import UnitaryGate\n",
    "from qiskit.circuit.classical import expr\n",
    "from qiskit import QuantumCircuit, QuantumRegister, ClassicalRegister\n",
    "from qiskit.visualization import plot_histogram\n",
    "from qiskit.transpiler.preset_passmanagers import generate_preset_pass_manager\n",
    "from qiskit_aer.primitives import Sampler\n",
    "\n",
    "from qiskit_nature.second_q.drivers import PySCFDriver\n",
    "from qiskit_nature.units import DistanceUnit\n",
    "from qiskit_nature.second_q.mappers import ParityMapper\n",
    "from qiskit_nature.second_q.algorithms import GroundStateEigensolver\n",
    "from qiskit_nature.second_q.circuit.library import HartreeFock\n",
    "\n",
    "from qiskit_algorithms import NumPyMinimumEigensolver\n",
    "from qiskit_algorithms import IterativePhaseEstimation\n",
    "\n",
    "from qiskit_ibm_runtime import QiskitRuntimeService"
   ]
  },
  {
   "cell_type": "code",
   "execution_count": 15,
   "id": "b80ed43c",
   "metadata": {},
   "outputs": [
    {
     "name": "stdout",
     "output_type": "stream",
     "text": [
      "SparsePauliOp(['I', 'Z', 'X'],\n",
      "              coeffs=[-1.04259702+0.j, -0.78723106+0.j, -0.18132241+0.j])\n",
      "<class 'qiskit.quantum_info.operators.symplectic.sparse_pauli_op.SparsePauliOp'>\n"
     ]
    }
   ],
   "source": [
    "def compute_energy(i, distance, algorithm):\n",
    "    driver = PySCFDriver(\n",
    "        atom=f'H .0 .0 .0; H .0 .0 {distance}',\n",
    "        unit=DistanceUnit.ANGSTROM,\n",
    "        charge=0,\n",
    "        spin=0,\n",
    "        basis='sto3g'\n",
    "    )\n",
    "\n",
    "    molecule = driver.run()\n",
    "    mapper = ParityMapper(num_particles=molecule.num_particles)\n",
    "    fer_op = molecule.hamiltonian.second_q_op()\n",
    "    tapered_mapper = molecule.get_tapered_mapper(mapper)\n",
    "    qubit_op = tapered_mapper.map(fer_op)\n",
    "    return qubit_op\n",
    "cost_h=compute_energy(0, 0.742, None)\n",
    "print(cost_h)\n",
    "print(type(cost_h))\n"
   ]
  },
  {
   "cell_type": "code",
   "execution_count": 16,
   "id": "ff4ea340",
   "metadata": {},
   "outputs": [
    {
     "name": "stdout",
     "output_type": "stream",
     "text": [
      "SparsePauliOp(['XIII', 'IXII', 'IIXI', 'IIIX'],\n",
      "              coeffs=[-1.+0.j, -1.+0.j, -1.+0.j, -1.+0.j])\n",
      "<class 'qiskit.quantum_info.operators.symplectic.sparse_pauli_op.SparsePauliOp'>\n"
     ]
    }
   ],
   "source": [
    "from qiskit.quantum_info import SparsePauliOp\n",
    "import numpy as np\n",
    "\n",
    "def build_driver_hamiltonian(n_qubits):\n",
    "    pauli_strings = []\n",
    "    coefficients = []\n",
    "\n",
    "    for i in range(n_qubits):\n",
    "        # 构造类似 'XIII', 'IXII', 'IIXI', 'IIIX'\n",
    "        pauli_str = ['I'] * n_qubits\n",
    "        pauli_str[i] = 'X'\n",
    "        pauli_strings.append(\"\".join(pauli_str))\n",
    "        coefficients.append(-1.0)\n",
    "\n",
    "    return SparsePauliOp(pauli_strings, coeffs=np.array(coefficients))\n",
    "\n",
    "# 示例：4-qubit 系统\n",
    "driver_h = build_driver_hamiltonian(4)\n",
    "\n",
    "print(driver_h)\n",
    "print(type(driver_h))\n"
   ]
  },
  {
   "cell_type": "code",
   "execution_count": 17,
   "id": "cfeecd18",
   "metadata": {},
   "outputs": [],
   "source": [
    "from qiskit.quantum_info import SparsePauliOp\n",
    "\n",
    "def commutator(opA: SparsePauliOp, opB: SparsePauliOp) -> SparsePauliOp:\n",
    "    return (opA @ opB) - (opB @ opA)\n"
   ]
  },
  {
   "cell_type": "code",
   "execution_count": 18,
   "id": "9fd1932f",
   "metadata": {},
   "outputs": [],
   "source": [
    "def expand_operator(op: SparsePauliOp, target_qubits: int) -> SparsePauliOp:\n",
    "    \"\"\"将 op 扩展为作用在 target_qubits 上的 SparsePauliOp\"\"\"\n",
    "    expanded_paulis = []\n",
    "    for p in op.paulis.to_labels():\n",
    "        # pad with identity on the right（或左，根据你想的位置）\n",
    "        padded_p = p.ljust(target_qubits, 'I')  # 右侧补 I\n",
    "        expanded_paulis.append(padded_p)\n",
    "    return SparsePauliOp(expanded_paulis, coeffs=op.coeffs)\n"
   ]
  },
  {
   "cell_type": "code",
   "execution_count": 19,
   "id": "25194915",
   "metadata": {},
   "outputs": [
    {
     "name": "stdout",
     "output_type": "stream",
     "text": [
      "SparsePauliOp(['XIII', 'YIII', 'IIII', 'IXII', 'ZXII', 'XXII', 'IIXI', 'ZIXI', 'XIXI', 'IIIX', 'ZIIX', 'XIIX', 'XIII', 'IXII', 'IIXI', 'IIIX', 'YIII', 'ZXII', 'ZIXI', 'ZIIX', 'IIII', 'XXII', 'XIXI', 'XIIX'],\n",
      "              coeffs=[ 1.04259702+0.j        , -0.        -0.78723106j,  0.18132241+0.j        ,\n",
      "  1.04259702+0.j        ,  0.78723106+0.j        ,  0.18132241+0.j        ,\n",
      "  1.04259702+0.j        ,  0.78723106+0.j        ,  0.18132241+0.j        ,\n",
      "  1.04259702+0.j        ,  0.78723106+0.j        ,  0.18132241+0.j        ,\n",
      " -1.04259702+0.j        , -1.04259702+0.j        , -1.04259702+0.j        ,\n",
      " -1.04259702+0.j        , -0.        -0.78723106j, -0.78723106+0.j        ,\n",
      " -0.78723106+0.j        , -0.78723106+0.j        , -0.18132241+0.j        ,\n",
      " -0.18132241+0.j        , -0.18132241+0.j        , -0.18132241+0.j        ])\n",
      "<class 'qiskit.quantum_info.operators.symplectic.sparse_pauli_op.SparsePauliOp'>\n"
     ]
    }
   ],
   "source": [
    "cost_h_expanded = expand_operator(cost_h, 4)\n",
    "\n",
    "comm_h = commutator(driver_h, cost_h_expanded)\n",
    "\n",
    "print(comm_h)\n",
    "print(type(comm_h))\n"
   ]
  },
  {
   "cell_type": "code",
   "execution_count": 20,
   "id": "58d9d44c",
   "metadata": {},
   "outputs": [],
   "source": [
    "from qiskit import QuantumCircuit\n",
    "from qiskit.quantum_info import Pauli\n",
    "from numpy import pi\n",
    "\n",
    "def falqon_layer_qiskit(n_qubits, beta_k, cost_h, driver_h, delta_t):\n",
    "    qc = QuantumCircuit(n_qubits)\n",
    "\n",
    "    def apply_pauli_rotation(qc, pauli_label, coeff, factor):\n",
    "        \"\"\"将 exp(-i * coeff * factor * Pauli) 添加到电路\"\"\"\n",
    "        op = Pauli(pauli_label)\n",
    "        angle = 2 * coeff.real * factor  # Qiskit 是 Rz(θ) = exp(-iθZ/2)，所以用 2*θ\n",
    "        qc.p(0, 0)  # 防止空电路\n",
    "        qc.compose(\n",
    "            PauliSumOp.from_list([(pauli_label, angle)]).exp_i().to_circuit(), inplace=True\n",
    "        )\n",
    "\n",
    "    # 应用 cost Hamiltonian 的演化\n",
    "    for pauli_label, coeff in zip(cost_h.paulis.to_labels(), cost_h.coeffs):\n",
    "        apply_pauli_rotation(qc, pauli_label, coeff, delta_t*beta_k)\n",
    "\n",
    "    # 应用 driver Hamiltonian 的演化\n",
    "    for pauli_label, coeff in zip(driver_h.paulis.to_labels(), driver_h.coeffs):\n",
    "        apply_pauli_rotation(qc, pauli_label, coeff, beta_k * delta_t)\n",
    "\n",
    "    return qc\n"
   ]
  },
  {
   "cell_type": "code",
   "execution_count": 21,
   "id": "d7e05d35",
   "metadata": {},
   "outputs": [],
   "source": [
    "from qiskit import QuantumCircuit\n",
    "from qiskit.quantum_info import SparsePauliOp, Statevector, Pauli\n",
    "import numpy as np\n",
    "import matplotlib.pyplot as plt\n"
   ]
  },
  {
   "cell_type": "code",
   "execution_count": 22,
   "id": "92e88df6",
   "metadata": {},
   "outputs": [],
   "source": [
    "def apply_pauli_exp(circuit, pauli_string, angle):\n",
    "    \"\"\"在给定电路上应用单个 Pauli 项的 exp(-i * angle * P)\"\"\"\n",
    "    n_qubits = circuit.num_qubits\n",
    "    op = Pauli(pauli_string)\n",
    "\n",
    "    # 将 Pauli 门转化为量子门：先变换到Z轴，再Rz，再变换回来\n",
    "    qubits = [i for i, p in enumerate(pauli_string) if p != 'I']\n",
    "    if not qubits:\n",
    "        return\n",
    "\n",
    "    for i in qubits:\n",
    "        if pauli_string[i] == 'X':\n",
    "            circuit.h(i)\n",
    "        elif pauli_string[i] == 'Y':\n",
    "            circuit.sdg(i)\n",
    "            circuit.h(i)\n",
    "        # Z 无需变换\n",
    "\n",
    "    circuit.rz(2 * angle, qubits[-1])  # 控制Z旋转\n",
    "\n",
    "    for i in reversed(qubits):\n",
    "        if pauli_string[i] == 'X':\n",
    "            circuit.h(i)\n",
    "        elif pauli_string[i] == 'Y':\n",
    "            circuit.h(i)\n",
    "            circuit.s(i)\n"
   ]
  },
  {
   "cell_type": "code",
   "execution_count": 23,
   "id": "3b7f4d6c",
   "metadata": {},
   "outputs": [],
   "source": [
    "def build_ansatz(beta_list, cost_h: SparsePauliOp, driver_h: SparsePauliOp, delta_t: float):\n",
    "    n_qubits = cost_h.num_qubits\n",
    "    qc = QuantumCircuit(n_qubits)\n",
    "\n",
    "    # 初始Hadamard\n",
    "    for q in range(n_qubits):\n",
    "        qc.h(q)\n",
    "\n",
    "    for beta_k in beta_list:\n",
    "        for p_str, c in zip(cost_h.paulis.to_labels(), cost_h.coeffs):\n",
    "            apply_pauli_exp(qc, p_str, c.real * delta_t)\n",
    "        for p_str, c in zip(driver_h.paulis.to_labels(), driver_h.coeffs):\n",
    "            apply_pauli_exp(qc, p_str, c.real * beta_k * delta_t)\n",
    "\n",
    "    return qc\n"
   ]
  },
  {
   "cell_type": "code",
   "execution_count": 24,
   "id": "e1cd83af",
   "metadata": {},
   "outputs": [],
   "source": [
    "def measure_expectation(qc: QuantumCircuit, hamiltonian: SparsePauliOp):\n",
    "    state = Statevector(qc)\n",
    "    return np.real(state.expectation_value(hamiltonian))\n"
   ]
  },
  {
   "cell_type": "code",
   "execution_count": 25,
   "id": "7f22a72d",
   "metadata": {},
   "outputs": [],
   "source": [
    "def falqon_qiskit(n, beta_1, delta_t, cost_h, driver_h):\n",
    "\n",
    "    beta = [beta_1]\n",
    "    energies = []\n",
    "\n",
    "    for i in range(n):\n",
    "        qc_comm = build_ansatz(beta, cost_h, driver_h, delta_t)\n",
    "        beta_next = -1 * measure_expectation(qc_comm, comm_h)\n",
    "        beta.append(beta_next)\n",
    "\n",
    "        qc_cost = build_ansatz(beta, cost_h, driver_h, delta_t)\n",
    "        energy = measure_expectation(qc_cost, cost_h)\n",
    "        energies.append(energy)\n",
    "        print(f\"第 {i+1} 步: E = {energy:.8f} Ha\")\n",
    "\n",
    "    return beta, energies\n"
   ]
  },
  {
   "cell_type": "code",
   "execution_count": 26,
   "id": "27a02184",
   "metadata": {},
   "outputs": [
    {
     "name": "stdout",
     "output_type": "stream",
     "text": [
      "第 1 步: E = -1.22391943 Ha\n",
      "第 2 步: E = -1.22391943 Ha\n",
      "第 3 步: E = -1.22391943 Ha\n",
      "第 4 步: E = -1.22391943 Ha\n",
      "第 5 步: E = -1.22391943 Ha\n",
      "第 6 步: E = -1.22391943 Ha\n",
      "第 7 步: E = -1.22391943 Ha\n"
     ]
    },
    {
     "name": "stdout",
     "output_type": "stream",
     "text": [
      "第 8 步: E = -1.22391943 Ha\n",
      "第 9 步: E = -1.22391943 Ha\n",
      "第 10 步: E = -1.22391943 Ha\n",
      "第 11 步: E = -1.22391943 Ha\n",
      "第 12 步: E = -1.22391943 Ha\n",
      "第 13 步: E = -1.22391943 Ha\n",
      "第 14 步: E = -1.22391943 Ha\n",
      "第 15 步: E = -1.22391943 Ha\n",
      "第 16 步: E = -1.22391943 Ha\n",
      "第 17 步: E = -1.22391943 Ha\n",
      "第 18 步: E = -1.22391943 Ha\n",
      "第 19 步: E = -1.22391943 Ha\n",
      "第 20 步: E = -1.22391943 Ha\n",
      "第 21 步: E = -1.22391943 Ha\n",
      "第 22 步: E = -1.22391943 Ha\n",
      "第 23 步: E = -1.22391943 Ha\n",
      "第 24 步: E = -1.22391943 Ha\n",
      "第 25 步: E = -1.22391943 Ha\n",
      "第 26 步: E = -1.22391943 Ha\n",
      "第 27 步: E = -1.22391943 Ha\n",
      "第 28 步: E = -1.22391943 Ha\n",
      "第 29 步: E = -1.22391943 Ha\n",
      "第 30 步: E = -1.22391943 Ha\n",
      "第 31 步: E = -1.22391943 Ha\n",
      "第 32 步: E = -1.22391943 Ha\n",
      "第 33 步: E = -1.22391943 Ha\n",
      "第 34 步: E = -1.22391943 Ha\n",
      "第 35 步: E = -1.22391943 Ha\n",
      "第 36 步: E = -1.22391943 Ha\n",
      "第 37 步: E = -1.22391943 Ha\n",
      "第 38 步: E = -1.22391943 Ha\n",
      "第 39 步: E = -1.22391943 Ha\n",
      "第 40 步: E = -1.22391943 Ha\n",
      "第 41 步: E = -1.22391943 Ha\n",
      "第 42 步: E = -1.22391943 Ha\n",
      "第 43 步: E = -1.22391943 Ha\n",
      "第 44 步: E = -1.22391943 Ha\n",
      "第 45 步: E = -1.22391943 Ha\n",
      "第 46 步: E = -1.22391943 Ha\n",
      "第 47 步: E = -1.22391943 Ha\n",
      "第 48 步: E = -1.22391943 Ha\n",
      "第 49 步: E = -1.22391943 Ha\n",
      "第 50 步: E = -1.22391943 Ha\n",
      "第 51 步: E = -1.22391943 Ha\n",
      "第 52 步: E = -1.22391943 Ha\n",
      "第 53 步: E = -1.22391943 Ha\n",
      "第 54 步: E = -1.22391943 Ha\n",
      "第 55 步: E = -1.22391943 Ha\n",
      "第 56 步: E = -1.22391943 Ha\n",
      "第 57 步: E = -1.22391943 Ha\n",
      "第 58 步: E = -1.22391943 Ha\n",
      "第 59 步: E = -1.22391943 Ha\n",
      "第 60 步: E = -1.22391943 Ha\n",
      "第 61 步: E = -1.22391943 Ha\n",
      "第 62 步: E = -1.22391943 Ha\n",
      "第 63 步: E = -1.22391943 Ha\n",
      "第 64 步: E = -1.22391943 Ha\n",
      "第 65 步: E = -1.22391943 Ha\n",
      "第 66 步: E = -1.22391943 Ha\n",
      "第 67 步: E = -1.22391943 Ha\n",
      "第 68 步: E = -1.22391943 Ha\n",
      "第 69 步: E = -1.22391943 Ha\n",
      "第 70 步: E = -1.22391943 Ha\n",
      "第 71 步: E = -1.22391943 Ha\n",
      "第 72 步: E = -1.22391943 Ha\n",
      "第 73 步: E = -1.22391943 Ha\n",
      "第 74 步: E = -1.22391943 Ha\n",
      "第 75 步: E = -1.22391943 Ha\n",
      "第 76 步: E = -1.22391943 Ha\n",
      "第 77 步: E = -1.22391943 Ha\n",
      "第 78 步: E = -1.22391943 Ha\n",
      "第 79 步: E = -1.22391943 Ha\n",
      "第 80 步: E = -1.22391943 Ha\n",
      "第 81 步: E = -1.22391943 Ha\n",
      "第 82 步: E = -1.22391943 Ha\n",
      "第 83 步: E = -1.22391943 Ha\n",
      "第 84 步: E = -1.22391943 Ha\n",
      "第 85 步: E = -1.22391943 Ha\n",
      "第 86 步: E = -1.22391943 Ha\n",
      "第 87 步: E = -1.22391943 Ha\n",
      "第 88 步: E = -1.22391943 Ha\n",
      "第 89 步: E = -1.22391943 Ha\n",
      "第 90 步: E = -1.22391943 Ha\n",
      "第 91 步: E = -1.22391943 Ha\n",
      "第 92 步: E = -1.22391943 Ha\n",
      "第 93 步: E = -1.22391943 Ha\n",
      "第 94 步: E = -1.22391943 Ha\n",
      "第 95 步: E = -1.22391943 Ha\n",
      "第 96 步: E = -1.22391943 Ha\n",
      "第 97 步: E = -1.22391943 Ha\n",
      "第 98 步: E = -1.22391943 Ha\n",
      "第 99 步: E = -1.22391943 Ha\n",
      "第 100 步: E = -1.22391943 Ha\n"
     ]
    },
    {
     "data": {
      "image/png": "[encoded data removed]",
      "text/plain": [
       "<Figure size 640x480 with 1 Axes>"
      ]
     },
     "metadata": {},
     "output_type": "display_data"
    }
   ],
   "source": [
    "n = 100\n",
    "beta_1 = 1\n",
    "delta_t = 0.03\n",
    "\n",
    "res_beta, res_energies = falqon_qiskit(n, beta_1, delta_t, cost_h_expanded, driver_h)\n",
    "\n",
    "plt.plot(range(1, n+1), res_energies)\n",
    "plt.xlabel(\"Iteration\")\n",
    "plt.ylabel(\"Energy\")\n",
    "plt.title(\"FALQON Convergence\")\n",
    "plt.grid()\n",
    "plt.show()\n"
   ]
  },
  {
   "cell_type": "code",
   "execution_count": null,
   "id": "5a680f52",
   "metadata": {},
   "outputs": [],
   "source": []
  }
 ],
 "metadata": {
  "kernelspec": {
   "display_name": "FBQA_Hydrogen",
   "language": "python",
   "name": "python3"
  },
  "language_info": {
   "codemirror_mode": {
    "name": "ipython",
    "version": 3
   },
   "file_extension": ".py",
   "mimetype": "text/x-python",
   "name": "python",
   "nbconvert_exporter": "python",
   "pygments_lexer": "ipython3",
   "version": "3.10.17"
  }
 },
 "nbformat": 4,
 "nbformat_minor": 5
}
