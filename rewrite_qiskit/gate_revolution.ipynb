{
 "cells": [
  {
   "cell_type": "code",
   "execution_count": 6,
   "id": "79bb96b0",
   "metadata": {},
   "outputs": [
    {
     "name": "stdout",
     "output_type": "stream",
     "text": [
      "     ┌──────────────────────────┐\n",
      "q_0: ┤0                         ├\n",
      "     │  exp(-it (ZZ + XI))(0.2) │\n",
      "q_1: ┤1                         ├\n",
      "     └──────────────────────────┘\n"
     ]
    }
   ],
   "source": [
    "from qiskit.synthesis.evolution import LieTrotter\n",
    "from qiskit.circuit import QuantumCircuit\n",
    "from qiskit.circuit.library import PauliEvolutionGate\n",
    "from qiskit.quantum_info import SparsePauliOp\n",
    "\n",
    "synth = LieTrotter(reps=1)  # reps 是 Trotter 展开的步数\n",
    "from qiskit.circuit import QuantumCircuit\n",
    "from qiskit.circuit.library import PauliEvolutionGate\n",
    "from qiskit.quantum_info import SparsePauliOp\n",
    " \n",
    "X = SparsePauliOp(\"X\")\n",
    "Z = SparsePauliOp(\"Z\")\n",
    "I = SparsePauliOp(\"I\")\n",
    " \n",
    "# build the evolution gate\n",
    "H = (Z ^ Z) - 0.1 * (X ^ I)\n",
    "evo = PauliEvolutionGate(H, time=0.2)\n",
    "t=0.03\n",
    "# plug it into a circuit\n",
    "circuit = QuantumCircuit(2)\n",
    "circuit.append(evo, range(2))\n",
    "print(circuit.draw())\n",
    "gate = PauliEvolutionGate(operator=H, time=t, synthesis=synth)\n"
   ]
  },
  {
   "cell_type": "markdown",
   "id": "7799beb4",
   "metadata": {},
   "source": []
  },
  {
   "cell_type": "code",
   "execution_count": null,
   "id": "7a90c838",
   "metadata": {},
   "outputs": [],
   "source": [
    "from qiskit.synthesis.evolution import SuzukiTrotter\n",
    "\n",
    "synth = SuzukiTrotter(reps=2)  \n",
    "gate = PauliEvolutionGate(operator=H, time=0.2, synthesis=synth)\n"
   ]
  },
  {
   "cell_type": "code",
   "execution_count": null,
   "id": "5db9f0d2",
   "metadata": {},
   "outputs": [],
   "source": []
  }
 ],
 "metadata": {
  "kernelspec": {
   "display_name": "FBQA_Hydrogen",
   "language": "python",
   "name": "python3"
  },
  "language_info": {
   "codemirror_mode": {
    "name": "ipython",
    "version": 3
   },
   "file_extension": ".py",
   "mimetype": "text/x-python",
   "name": "python",
   "nbconvert_exporter": "python",
   "pygments_lexer": "ipython3",
   "version": "3.10.17"
  }
 },
 "nbformat": 4,
 "nbformat_minor": 5
}
