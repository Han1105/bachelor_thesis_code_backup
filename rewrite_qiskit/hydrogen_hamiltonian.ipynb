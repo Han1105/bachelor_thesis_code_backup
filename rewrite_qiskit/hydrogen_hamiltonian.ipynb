{
 "cells": [
  {
   "cell_type": "code",
   "execution_count": 6,
   "id": "ab0c43bf",
   "metadata": {},
   "outputs": [],
   "source": [
    "import pennylane as qml\n",
    "from pennylane import numpy as np\n",
    "from pennylane.qchem import molecular_hamiltonian\n",
    "from pennylane import commutator\n",
    "from scipy.linalg import expm\n",
    "import matplotlib.pyplot as plt\n",
    "\n",
    "# ========== 1. 分子设置 ==========\n",
    "import pennylane as qml\n",
    "from pennylane import numpy as np\n",
    "from pennylane.qchem import molecule\n",
    "from pennylane import commutator\n",
    "import matplotlib.pyplot as plt\n",
    "\n",
    "import pennylane as qml\n",
    "from pennylane import numpy as np\n",
    "from pennylane.qchem import molecule\n",
    "from pennylane import commutator\n",
    "import matplotlib.pyplot as plt\n",
    "\n",
    "# 1. 设置分子结构\n",
    "from pennylane.qchem import molecular_hamiltonian\n",
    "\n",
    "from pyscf import gto, scf\n",
    "from openfermionpyscf import run_pyscf\n",
    "from openfermion.transforms import jordan_wigner\n",
    "from openfermion.linalg import get_sparse_operator\n",
    "import scipy\n",
    "\n",
    "from openfermion import MolecularData\n",
    "from openfermionpyscf import run_pyscf\n",
    "from openfermion.transforms import jordan_wigner\n",
    "from openfermion.linalg import get_sparse_operator\n",
    "import pylab\n",
    "import concurrent.futures\n",
    "import multiprocessing as mp\n",
    "import numpy as np\n",
    "from scipy.linalg import expm\n",
    "\n",
    "from qiskit.circuit.library import UnitaryGate\n",
    "from qiskit.circuit.classical import expr\n",
    "from qiskit import QuantumCircuit, QuantumRegister, ClassicalRegister\n",
    "from qiskit.visualization import plot_histogram\n",
    "from qiskit.transpiler.preset_passmanagers import generate_preset_pass_manager\n",
    "from qiskit_aer.primitives import Sampler\n",
    "\n",
    "from qiskit_nature.second_q.drivers import PySCFDriver\n",
    "from qiskit_nature.units import DistanceUnit\n",
    "from qiskit_nature.second_q.mappers import ParityMapper\n",
    "from qiskit_nature.second_q.algorithms import GroundStateEigensolver\n",
    "from qiskit_nature.second_q.circuit.library import HartreeFock\n",
    "\n",
    "from qiskit_algorithms import NumPyMinimumEigensolver\n",
    "from qiskit_algorithms import IterativePhaseEstimation\n",
    "\n",
    "from qiskit_ibm_runtime import QiskitRuntimeService\n",
    "import time\n",
    "import pylab\n",
    "import concurrent.futures\n",
    "import multiprocessing as mp\n",
    "import numpy as np\n",
    "from scipy.linalg import expm\n",
    "\n",
    "from qiskit.circuit.library import UnitaryGate\n",
    "from qiskit.circuit.classical import expr\n",
    "from qiskit import QuantumCircuit, QuantumRegister, ClassicalRegister\n",
    "from qiskit.visualization import plot_histogram\n",
    "from qiskit.transpiler.preset_passmanagers import generate_preset_pass_manager\n",
    "from qiskit_aer.primitives import Sampler\n",
    "\n",
    "from qiskit_nature.second_q.drivers import PySCFDriver\n",
    "from qiskit_nature.units import DistanceUnit\n",
    "from qiskit_nature.second_q.mappers import ParityMapper\n",
    "from qiskit_nature.second_q.algorithms import GroundStateEigensolver\n",
    "from qiskit_nature.second_q.circuit.library import HartreeFock\n",
    "\n",
    "from qiskit_algorithms import NumPyMinimumEigensolver\n",
    "from qiskit_algorithms import IterativePhaseEstimation\n",
    "\n",
    "from qiskit_ibm_runtime import QiskitRuntimeService\n",
    "\n",
    "\n"
   ]
  },
  {
   "cell_type": "code",
   "execution_count": 36,
   "id": "7c59fb6f",
   "metadata": {},
   "outputs": [],
   "source": [
    "from qiskit_nature.units import DistanceUnit\n",
    "from qiskit_nature.second_q.drivers import PySCFDriver\n",
    "\n",
    "driver = PySCFDriver(\n",
    "    atom=\"H 0 0 0; H 0 0 0.74\",\n",
    "    basis=\"sto3g\",\n",
    "    charge=0,\n",
    "    spin=0,\n",
    "    unit=DistanceUnit.ANGSTROM,\n",
    ")"
   ]
  },
  {
   "cell_type": "code",
   "execution_count": 40,
   "id": "edfec43d",
   "metadata": {},
   "outputs": [
    {
     "name": "stdout",
     "output_type": "stream",
     "text": [
      "SparsePauliOp(['IIII', 'IIIZ', 'IIZZ', 'IZZI', 'ZZII', 'IIZI', 'IZZZ', 'ZZIZ', 'ZXIX', 'IXZX', 'ZXZX', 'IXIX', 'IZIZ', 'ZZZZ', 'ZIZI'],\n",
      "              coeffs=[-0.81217061+0.j,  0.17141283+0.j, -0.22343154+0.j,  0.17141283+0.j,\n",
      " -0.22343154+0.j,  0.12062523+0.j,  0.16868898+0.j,  0.16592785+0.j,\n",
      "  0.04530262+0.j, -0.04530262+0.j, -0.04530262+0.j,  0.04530262+0.j,\n",
      "  0.16592785+0.j,  0.17441288+0.j,  0.12062523+0.j])\n"
     ]
    }
   ],
   "source": [
    "molecule = driver.run()\n",
    "mapper = ParityMapper()\n",
    "qubit_op = mapper.map(molecule.hamiltonian.second_q_op())\n",
    "print(qubit_op)\n",
    "cost_h=qubit_op"
   ]
  },
  {
   "cell_type": "code",
   "execution_count": 42,
   "id": "e8907c83",
   "metadata": {},
   "outputs": [
    {
     "name": "stdout",
     "output_type": "stream",
     "text": [
      "SparsePauliOp(['XIII', 'IXII', 'IIXI', 'IIIX'],\n",
      "              coeffs=[-1.+0.j, -1.+0.j, -1.+0.j, -1.+0.j])\n"
     ]
    }
   ],
   "source": [
    "from qiskit.quantum_info import SparsePauliOp\n",
    "\n",
    "driver_h = SparsePauliOp.from_list([\n",
    "    (\"XIII\", -1.0),\n",
    "    (\"IXII\", -1.0),\n",
    "    (\"IIXI\", -1.0),\n",
    "    (\"IIIX\", -1.0),\n",
    "])\n",
    "print(driver_h)"
   ]
  },
  {
   "cell_type": "code",
   "execution_count": 68,
   "id": "cbdc2318",
   "metadata": {},
   "outputs": [],
   "source": [
    "from qiskit.quantum_info import SparsePauliOp\n",
    "\n",
    "def build_commutator(op_a: SparsePauliOp, op_b: SparsePauliOp) -> SparsePauliOp:\n",
    "    \"\"\"\n",
    "    Compute the commutator [A, B] = AB - BA for two SparsePauliOp Hamiltonians.\n",
    "\n",
    "    Args:\n",
    "        op_a (SparsePauliOp): First operator A.\n",
    "        op_b (SparsePauliOp): Second operator B.\n",
    "\n",
    "    Returns:\n",
    "        SparsePauliOp: The commutator [A, B].\n",
    "    \"\"\"\n",
    "    ab = op_a @ op_b\n",
    "    ba = op_b @ op_a\n",
    "    comm_pre= ab - ba\n",
    "    comm = comm_pre*-1j\n",
    "    return comm.simplify()\n"
   ]
  },
  {
   "cell_type": "code",
   "execution_count": 67,
   "id": "af454fa0",
   "metadata": {},
   "outputs": [
    {
     "name": "stdout",
     "output_type": "stream",
     "text": [
      "SparsePauliOp(['YZII', 'YZIZ', 'YXIX', 'YXZX', 'YZZZ', 'YIZI', 'IYZI', 'ZYII', 'IYZZ', 'ZYIZ', 'IYIZ', 'ZYZZ', 'IIYZ', 'IZYI', 'IIYI', 'IZYZ', 'IXYX', 'ZXYX', 'ZZYZ', 'ZIYI', 'IIIY', 'IIZY', 'IZZY', 'ZZIY', 'IZIY', 'ZZZY'],\n",
      "              coeffs=[ 0.44686307+0.j, -0.3318557 +0.j, -0.09060523+0.j,  0.09060523+0.j,\n",
      " -0.34882575+0.j, -0.24125047+0.j, -0.34282565+0.j,  0.44686307+0.j,\n",
      " -0.33737796+0.j, -0.3318557 +0.j, -0.3318557 +0.j, -0.34882575+0.j,\n",
      "  0.44686307+0.j, -0.34282565+0.j, -0.24125047+0.j, -0.33737796+0.j,\n",
      "  0.09060523+0.j,  0.09060523+0.j, -0.34882575+0.j, -0.24125047+0.j,\n",
      " -0.34282565+0.j,  0.44686307+0.j, -0.33737796+0.j, -0.3318557 +0.j,\n",
      " -0.3318557 +0.j, -0.34882575+0.j])\n"
     ]
    }
   ],
   "source": [
    "comm_h=build_commutator(driver_h, cost_h)\n",
    "print(comm_h)\n",
    "\n"
   ]
  },
  {
   "cell_type": "code",
   "execution_count": 77,
   "id": "2d036ac2",
   "metadata": {},
   "outputs": [
    {
     "ename": "NameError",
     "evalue": "name 'dummy_energy' is not defined",
     "output_type": "error",
     "traceback": [
      "\u001b[0;31m---------------------------------------------------------------------------\u001b[0m",
      "\u001b[0;31mNameError\u001b[0m                                 Traceback (most recent call last)",
      "Cell \u001b[0;32mIn[77], line 56\u001b[0m\n\u001b[1;32m     53\u001b[0m beta_1 \u001b[38;5;241m=\u001b[39m \u001b[38;5;241m0.01\u001b[39m\n\u001b[1;32m     54\u001b[0m delta_t \u001b[38;5;241m=\u001b[39m \u001b[38;5;241m0.03\u001b[39m\n\u001b[0;32m---> 56\u001b[0m res_beta, res_energies \u001b[38;5;241m=\u001b[39m \u001b[43mfalqon_qiskit\u001b[49m\u001b[43m(\u001b[49m\u001b[43mn\u001b[49m\u001b[43m,\u001b[49m\u001b[43m \u001b[49m\u001b[43mbeta_1\u001b[49m\u001b[43m,\u001b[49m\u001b[43m \u001b[49m\u001b[43mdelta_t\u001b[49m\u001b[43m,\u001b[49m\u001b[43m \u001b[49m\u001b[43mcost_h\u001b[49m\u001b[43m,\u001b[49m\u001b[43m \u001b[49m\u001b[43mdriver_h\u001b[49m\u001b[43m,\u001b[49m\u001b[43m \u001b[49m\u001b[43mcomm_h\u001b[49m\u001b[43m,\u001b[49m\u001b[43m \u001b[49m\u001b[43mnum_qubits\u001b[49m\u001b[43m)\u001b[49m\n\u001b[1;32m     58\u001b[0m \u001b[38;5;66;03m# 绘图\u001b[39;00m\n\u001b[1;32m     59\u001b[0m plt\u001b[38;5;241m.\u001b[39mplot(\u001b[38;5;28mrange\u001b[39m(\u001b[38;5;241m1\u001b[39m, \u001b[38;5;28mlen\u001b[39m(res_energies)\u001b[38;5;241m+\u001b[39m\u001b[38;5;241m1\u001b[39m), res_energies)\n",
      "Cell \u001b[0;32mIn[77], line 41\u001b[0m, in \u001b[0;36mfalqon_qiskit\u001b[0;34m(n, beta_1, delta_t, cost_h, driver_h, comm_h, num_qubits)\u001b[0m\n\u001b[1;32m     39\u001b[0m     state \u001b[38;5;241m=\u001b[39m Statevector\u001b[38;5;241m.\u001b[39mfrom_instruction(qc)\n\u001b[1;32m     40\u001b[0m     energy \u001b[38;5;241m=\u001b[39m np\u001b[38;5;241m.\u001b[39mreal(state\u001b[38;5;241m.\u001b[39mexpectation_value(cost_h))\n\u001b[0;32m---> 41\u001b[0m     betas\u001b[38;5;241m.\u001b[39mappend(\u001b[38;5;241m-\u001b[39m\u001b[38;5;241m1\u001b[39m \u001b[38;5;241m*\u001b[39m \u001b[43mdummy_energy\u001b[49m)  \u001b[38;5;66;03m# feedback 更新 beta_k\u001b[39;00m\n\u001b[1;32m     43\u001b[0m     \u001b[38;5;28mprint\u001b[39m(\u001b[38;5;124mf\u001b[39m\u001b[38;5;124m\"\u001b[39m\u001b[38;5;124mStep \u001b[39m\u001b[38;5;132;01m{\u001b[39;00mi\u001b[38;5;241m+\u001b[39m\u001b[38;5;241m1\u001b[39m\u001b[38;5;132;01m}\u001b[39;00m\u001b[38;5;124m: Energy = \u001b[39m\u001b[38;5;132;01m{\u001b[39;00mdummy_energy\u001b[38;5;132;01m:\u001b[39;00m\u001b[38;5;124m.6f\u001b[39m\u001b[38;5;132;01m}\u001b[39;00m\u001b[38;5;124m\"\u001b[39m)\n\u001b[1;32m     45\u001b[0m \u001b[38;5;28;01mreturn\u001b[39;00m betas, energies\n",
      "\u001b[0;31mNameError\u001b[0m: name 'dummy_energy' is not defined"
     ]
    }
   ],
   "source": [
    "from qiskit import QuantumCircuit\n",
    "from qiskit.quantum_info import SparsePauliOp\n",
    "import numpy as np\n",
    "import matplotlib.pyplot as plt\n",
    "from qiskit.quantum_info import Statevector\n",
    "# 构造 FALQON 电路的一层\n",
    "def falqon_layer_qiskit(beta_k, cost_h, driver_h, delta_t, num_qubits):\n",
    "    qc = QuantumCircuit(num_qubits)\n",
    "    qc.h(range(num_qubits))  # 初始化为均匀叠加态\n",
    "\n",
    "    # 模拟 cost Hamiltonian 的演化 e^{-i H_c ∆t}\n",
    "    for pauli, coeff in zip(cost_h.paulis, cost_h.coeffs):\n",
    "        if not np.isclose(coeff, 0.0):\n",
    "            indices = [i for i, p in enumerate(pauli.to_label()) if p != 'I']\n",
    "            angle = 2 * coeff.real * delta_t\n",
    "            for idx in indices:\n",
    "                qc.rz(angle, idx)  # 简化为 RZ；复杂项需多门组合\n",
    "                # 实际可构建 exp(-i a P t) 形式，用 PauliRot 构造器逻辑\n",
    "\n",
    "    # 模拟 driver Hamiltonian 的演化 e^{-i β_k H_d ∆t}\n",
    "    for pauli, coeff in zip(driver_h.paulis, driver_h.coeffs):\n",
    "        if not np.isclose(coeff, 0.0):\n",
    "            indices = [i for i, p in enumerate(pauli.to_label()) if p != 'I']\n",
    "            angle = 2 * coeff.real * beta_k * delta_t\n",
    "            for idx in indices:\n",
    "                qc.rx(angle, idx)\n",
    "\n",
    "    return qc\n",
    "\n",
    "# 主循环：仅结构展示，测量结果为随机占位\n",
    "def falqon_qiskit(n, beta_1, delta_t, cost_h, driver_h, comm_h, num_qubits):\n",
    "    betas = [beta_1]\n",
    "    energies = []\n",
    "\n",
    "    for i in range(n):\n",
    "        beta_k = betas[-1]\n",
    "        qc = falqon_layer_qiskit(beta_k, cost_h, driver_h, delta_t, num_qubits)\n",
    "        # TODO：这里你可以插入真实测量流程，比如 Sampler + SparsePauliOp.expval\n",
    "        state = Statevector.from_instruction(qc)\n",
    "        energy = np.real(state.expectation_value(cost_h))\n",
    "        betas.append(-1 * dummy_energy)  # feedback 更新 beta_k\n",
    "\n",
    "        print(f\"Step {i+1}: Energy = {dummy_energy:.6f}\")\n",
    "\n",
    "    return betas, energies\n",
    "\n",
    "# 假设你已经准备好了以下变量\n",
    "# cost_h = SparsePauliOp(...)\n",
    "# driver_h = SparsePauliOp(...)\n",
    "# comm_h = SparsePauliOp(...)\n",
    "num_qubits = 4\n",
    "n = 100\n",
    "beta_1 = 0.01\n",
    "delta_t = 0.03\n",
    "\n",
    "res_beta, res_energies = falqon_qiskit(n, beta_1, delta_t, cost_h, driver_h, comm_h, num_qubits)\n",
    "\n",
    "# 绘图\n",
    "plt.plot(range(1, len(res_energies)+1), res_energies)\n",
    "plt.xlabel(\"Iteration\")\n",
    "plt.ylabel(\"Cost Function Value (placeholder)\")\n",
    "plt.title(\"Qiskit FALQON Energy Convergence\")\n",
    "plt.grid(True)\n",
    "plt.show()\n"
   ]
  },
  {
   "cell_type": "code",
   "execution_count": null,
   "id": "ad76aba6",
   "metadata": {},
   "outputs": [],
   "source": []
  }
 ],
 "metadata": {
  "kernelspec": {
   "display_name": "FBQA_Hydrogen",
   "language": "python",
   "name": "python3"
  },
  "language_info": {
   "codemirror_mode": {
    "name": "ipython",
    "version": 3
   },
   "file_extension": ".py",
   "mimetype": "text/x-python",
   "name": "python",
   "nbconvert_exporter": "python",
   "pygments_lexer": "ipython3",
   "version": "3.10.17"
  }
 },
 "nbformat": 4,
 "nbformat_minor": 5
}
