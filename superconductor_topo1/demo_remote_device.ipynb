{
 "cells": [
  {
   "cell_type": "code",
   "execution_count": null,
   "id": "7bd2708e",
   "metadata": {},
   "outputs": [],
   "source": [
    "from qiskit import QuantumCircuit, transpile, assemble\n",
    "from qiskit_aer import Aer\n",
    "from qiskit.visualization import plot_histogram\n",
    "from qiskit.quantum_info import Statevector\n",
    "from IPython.display import display, Latex\n",
    "import matplotlib.pyplot as plt\n",
    "from qiskit_ibm_runtime import Sampler\n",
    "from qiskit import transpile\n",
    "import numpy as np\n",
    "from qiskit_ibm_runtime import SamplerV2 as Sampler\n",
    "\n",
    "from qiskit_ibm_runtime import QiskitRuntimeService\n",
    "service = QiskitRuntimeService (channel=\"ibm_quantum\",\n",
    "                                token=\"304636e08832e99bf5cd66f58d0f1180f193cd79e97987083aafe0ba33cef2f9ceb8ac2bba91aa24b612787451d32e9dc7206edf2e4347ba88443ba5261f04a6\")\n",
    "\n",
    "QiskitRuntimeService.save_account(channel=\"ibm_quantum\",\n",
    "                                  token=\"304636e08832e99bf5cd66f58d0f1180f193cd79e97987083aafe0ba33cef2f9ceb8ac2bba91aa24b612787451d32e9dc7206edf2e4347ba88443ba5261f04a6\",\n",
    "                                  overwrite=True)"
   ]
  },
  {
   "cell_type": "code",
   "execution_count": 3,
   "id": "718482ff",
   "metadata": {},
   "outputs": [],
   "source": [
    "service = QiskitRuntimeService(channel=\"ibm_quantum\")"
   ]
  },
  {
   "cell_type": "code",
   "execution_count": 6,
   "id": "d0dc391c",
   "metadata": {},
   "outputs": [],
   "source": [
    "num_qubits = 5\n",
    "backend = service.least_busy(operational=True, simulator=False, min_num_qubits=num_qubits)\n"
   ]
  },
  {
   "cell_type": "code",
   "execution_count": 8,
   "id": "e6a284db",
   "metadata": {},
   "outputs": [
    {
     "name": "stderr",
     "output_type": "stream",
     "text": [
      "/root/miniconda3/envs/FBQA_Hydrogen/lib/python3.10/site-packages/pennylane/capture/capture_operators.py:33: RuntimeWarning: PennyLane is not yet compatible with JAX versions > 0.4.28. You have version 0.5.3 installed. Please downgrade JAX to <=0.4.28 to avoid runtime errors.\n",
      "  warnings.warn(\n"
     ]
    }
   ],
   "source": [
    "import pennylane as qml\n",
    "dev = qml.device('qiskit.remote', wires=num_qubits, backend=backend)"
   ]
  },
  {
   "cell_type": "code",
   "execution_count": 10,
   "id": "6f1950f6",
   "metadata": {},
   "outputs": [],
   "source": [
    "from qiskit_ibm_runtime import QiskitRuntimeService\n",
    "\n",
    "service = QiskitRuntimeService()\n",
    "backend = service.least_busy(simulator=False, operational=True, min_num_qubits=4)\n",
    "\n",
    "# ✅ 更新 backend 选项（关键字参数）\n",
    "backend.options.update_options(shots=1024)\n",
    "\n",
    "# 用于 PennyLane 的设备构造\n",
    "import pennylane as qml\n",
    "dev = qml.device(\"qiskit.remote\", wires=4, backend=backend)\n"
   ]
  },
  {
   "cell_type": "code",
   "execution_count": 11,
   "id": "1778d0f1",
   "metadata": {},
   "outputs": [],
   "source": [
    "@qml.qnode(dev)\n",
    "def circuit(x, y, z):\n",
    "    qml.RZ(z, wires=[0])\n",
    "    qml.RY(y, wires=[0])\n",
    "    qml.RX(x, wires=[0])\n",
    "    qml.CNOT(wires=[0, 1])\n",
    "    return qml.expval(qml.PauliZ(wires=1))"
   ]
  },
  {
   "cell_type": "code",
   "execution_count": 12,
   "id": "ca28ae35",
   "metadata": {},
   "outputs": [
    {
     "data": {
      "text/plain": [
       "0.878402344051199"
      ]
     },
     "execution_count": 12,
     "metadata": {},
     "output_type": "execute_result"
    }
   ],
   "source": [
    "circuit(0.2, 0.1, 0.3)"
   ]
  },
  {
   "cell_type": "code",
   "execution_count": 13,
   "id": "eda55e10",
   "metadata": {},
   "outputs": [],
   "source": [
    "from qiskit_ibm_runtime.fake_provider import FakeManilaV2\n",
    "backend = FakeManilaV2()\n",
    "\n",
    "# You could use an Aer simulator instead by using the following code:\n",
    "# from qiskit_aer import AerSimulator\n",
    "# backend = AerSimulator()\n",
    "\n",
    "dev = qml.device('qiskit.remote', wires=5, backend=backend)"
   ]
  },
  {
   "cell_type": "code",
   "execution_count": 14,
   "id": "0847a7e1",
   "metadata": {},
   "outputs": [],
   "source": [
    "dev = qml.device(\n",
    "    \"qiskit.remote\",\n",
    "    wires=5,\n",
    "    backend=backend,\n",
    "    resilience_level=1,\n",
    "    optimization_level=1,\n",
    "    seed_transpiler=42\n",
    ")\n"
   ]
  },
  {
   "cell_type": "code",
   "execution_count": null,
   "id": "8b285293",
   "metadata": {},
   "outputs": [
    {
     "name": "stdout",
     "output_type": "stream",
     "text": [
      "<class 'numpy.float64'>\n"
     ]
    },
    {
     "data": {
      "text/plain": [
       "0.9364"
      ]
     },
     "execution_count": 16,
     "metadata": {},
     "output_type": "execute_result"
    }
   ],
   "source": [
    "dev = qml.device(\"qiskit.remote\", wires=5, backend=backend, shots=4096)\n",
    "\n",
    "@qml.qnode(dev)\n",
    "def circuit(x, y, z):\n",
    "    qml.RZ(z, wires=[0])\n",
    "    qml.RY(y, wires=[0])\n",
    "    qml.RX(x, wires=[0])\n",
    "    qml.CNOT(wires=[0, 1])\n",
    "    return qml.expval(qml.PauliZ(wires=1))\n",
    "\n",
    "# Runs with 4096 shots\n",
    "circuit(0.2, 0.1, 0.3)\n",
    "# Runs with 10000 shots\n",
    "circuit(0.2, 0.1, 0.3, shots=10000)"
   ]
  },
  {
   "cell_type": "code",
   "execution_count": 17,
   "id": "3f772352",
   "metadata": {},
   "outputs": [
    {
     "name": "stdout",
     "output_type": "stream",
     "text": [
      "['cx', 'id', 'rz', 'sx', 'x']\n"
     ]
    }
   ],
   "source": [
    "print(backend.configuration().basis_gates)\n"
   ]
  },
  {
   "cell_type": "code",
   "execution_count": 24,
   "id": "2de7c4ec",
   "metadata": {},
   "outputs": [
    {
     "data": {
      "text/plain": [
       "<function qiskit.circuit.quantumcircuit.QuantumCircuit.depth(self, filter_function: 'Callable[[CircuitInstruction], bool]' = <function QuantumCircuit.<lambda> at 0x7fa025196cb0>) -> 'int'>"
      ]
     },
     "execution_count": 24,
     "metadata": {},
     "output_type": "execute_result"
    }
   ],
   "source": [
    "QuantumCircuit.depth"
   ]
  },
  {
   "cell_type": "code",
   "execution_count": 26,
   "id": "fef36c4c",
   "metadata": {},
   "outputs": [
    {
     "name": "stdout",
     "output_type": "stream",
     "text": [
      "<class 'pennylane.workflow.qnode.QNode'>\n"
     ]
    }
   ],
   "source": [
    "print(type(circuit))"
   ]
  },
  {
   "cell_type": "code",
   "execution_count": null,
   "id": "f9d38936",
   "metadata": {},
   "outputs": [],
   "source": []
  }
 ],
 "metadata": {
  "kernelspec": {
   "display_name": "FBQA_Hydrogen",
   "language": "python",
   "name": "python3"
  },
  "language_info": {
   "codemirror_mode": {
    "name": "ipython",
    "version": 3
   },
   "file_extension": ".py",
   "mimetype": "text/x-python",
   "name": "python",
   "nbconvert_exporter": "python",
   "pygments_lexer": "ipython3",
   "version": "3.10.17"
  }
 },
 "nbformat": 4,
 "nbformat_minor": 5
}
